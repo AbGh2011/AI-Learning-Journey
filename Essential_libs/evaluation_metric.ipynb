{
 "cells": [
  {
   "cell_type": "code",
   "execution_count": 1,
   "metadata": {},
   "outputs": [],
   "source": [
    "from sklearn.metrics import accuracy_score\n",
    "from sklearn.metrics import precision_score\n",
    "from sklearn.metrics import recall_score"
   ]
  },
  {
   "cell_type": "code",
   "execution_count": 2,
   "metadata": {},
   "outputs": [],
   "source": [
    "# Evaluation metrics | معیار های ارزیابی\n",
    "# Evaluate the performance of the model | میخوایم عملکرد مدلمون رو ارزیابی کنیم\n",
    "\n",
    "# Example: The data is about having a tumor (1 means positive, 0 means negative) | برای مثال اینجا دیتامون داشتن تومور هست\n",
    "# یک یعنی مثبت و صفر یعنی منفی\n",
    "y_true = [0, 1, 1, 0, 1, 0, 1, 0, 1, 1] # True labels | دیتای درست\n",
    "y_pred = [1, 1, 0, 0, 1, 0, 0, 0, 1, 1] # Predicted labels | دیتایی که ماشین حدس زده"
   ]
  },
  {
   "cell_type": "code",
   "execution_count": 3,
   "metadata": {},
   "outputs": [
    {
     "name": "stdout",
     "output_type": "stream",
     "text": [
      "70.0\n"
     ]
    }
   ],
   "source": [
    "# Calculate accuracy | میزان درست عمل کردن مدلمون رو اینجوری بررسی میکنیم\n",
    "\n",
    "acc = accuracy_score(y_true, y_pred) * 100\n",
    "print(acc)"
   ]
  },
  {
   "cell_type": "code",
   "execution_count": 4,
   "metadata": {},
   "outputs": [
    {
     "name": "stdout",
     "output_type": "stream",
     "text": [
      "80.0\n"
     ]
    }
   ],
   "source": [
    "# Calculate precision | حالا میخوایم ببینیم از بین اونایی که ماشین مثبت تشخیص داده، چند درصدشون واقعا مثبت و درستن\n",
    "\n",
    "pr = precision_score(y_true, y_pred) * 100\n",
    "print(pr)"
   ]
  },
  {
   "cell_type": "code",
   "execution_count": 5,
   "metadata": {},
   "outputs": [
    {
     "name": "stdout",
     "output_type": "stream",
     "text": [
      "66.66666666666666\n"
     ]
    }
   ],
   "source": [
    "# Calculate recall | حالا میخوایم ببینیم از بین اونایی که واقعا مثبت بودن، چند درصدشون رو ماشین مثبت تشخیص داده\n",
    "\n",
    "r = recall_score(y_true, y_pred) * 100\n",
    "print(r)"
   ]
  }
 ],
 "metadata": {
  "kernelspec": {
   "display_name": "venv",
   "language": "python",
   "name": "python3"
  },
  "language_info": {
   "codemirror_mode": {
    "name": "ipython",
    "version": 3
   },
   "file_extension": ".py",
   "mimetype": "text/x-python",
   "name": "python",
   "nbconvert_exporter": "python",
   "pygments_lexer": "ipython3",
   "version": "3.12.6"
  }
 },
 "nbformat": 4,
 "nbformat_minor": 2
}
