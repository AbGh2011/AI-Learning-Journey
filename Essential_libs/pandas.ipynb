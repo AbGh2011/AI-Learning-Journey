{
 "cells": [
  {
   "cell_type": "code",
   "execution_count": 24,
   "metadata": {},
   "outputs": [],
   "source": [
    "import pandas as pd"
   ]
  },
  {
   "cell_type": "code",
   "execution_count": 25,
   "metadata": {},
   "outputs": [
    {
     "name": "stdout",
     "output_type": "stream",
     "text": [
      "  name  age\n",
      "0    a    6\n",
      "1    b    8\n",
      "2    c    4\n"
     ]
    }
   ],
   "source": [
    "# How to use Pandas | کتابخانه پانداز\n",
    "\n",
    "# Creat a dataframe | ساخت جدول\n",
    "\n",
    "data = {\n",
    "    'name': ['a', 'b', 'c'],\n",
    "    'age': [6, 8, 4],\n",
    "}\n",
    "\n",
    "df = pd.DataFrame(data)\n",
    "\n",
    "print(df)"
   ]
  },
  {
   "cell_type": "code",
   "execution_count": 26,
   "metadata": {},
   "outputs": [
    {
     "name": "stdout",
     "output_type": "stream",
     "text": [
      "      Name  Age  Salary\n",
      "0    Hasan   32    1000\n",
      "1      Ali   33    4000\n",
      "2    Vahid   32    2500\n",
      "3   Behnam   33    3400\n",
      "4  Mahmoud   30    2400\n",
      "5    Zahra   28    3300\n",
      "6   Maryam   28    2700\n"
     ]
    }
   ],
   "source": [
    "# Read files | خوندن فایل ها\n",
    "\n",
    "df = pd.read_csv('./data.csv')\n",
    "\n",
    "print(df)"
   ]
  },
  {
   "cell_type": "code",
   "execution_count": 27,
   "metadata": {},
   "outputs": [
    {
     "name": "stdout",
     "output_type": "stream",
     "text": [
      "      Name  Age  Salary\n",
      "0    Hasan   32    1000\n",
      "1      Ali   33    4000\n",
      "2    Vahid   32    2500\n",
      "3   Behnam   33    3400\n",
      "4  Mahmoud   30    2400\n"
     ]
    }
   ],
   "source": [
    "# View the structure and first 5 rows of the dataframe | دیدن ساختار کلی جدول و 5 سطر اولش\n",
    "\n",
    "df = pd.read_csv('./data.csv')\n",
    "df = df.head()\n",
    "\n",
    "print(df)"
   ]
  },
  {
   "cell_type": "code",
   "execution_count": 28,
   "metadata": {},
   "outputs": [
    {
     "name": "stdout",
     "output_type": "stream",
     "text": [
      "             Age       Salary\n",
      "count   7.000000     7.000000\n",
      "mean   30.857143  2757.142857\n",
      "std     2.193063   960.654539\n",
      "min    28.000000  1000.000000\n",
      "25%    29.000000  2450.000000\n",
      "50%    32.000000  2700.000000\n",
      "75%    32.500000  3350.000000\n",
      "max    33.000000  4000.000000\n"
     ]
    }
   ],
   "source": [
    "# Describ the dataframe (statistical summary) | محاسبه اطلاعات آماری جدول\n",
    "\n",
    "df = pd.read_csv('./data.csv')\n",
    "df = df.describe()\n",
    "\n",
    "print(df)"
   ]
  },
  {
   "cell_type": "code",
   "execution_count": 29,
   "metadata": {},
   "outputs": [
    {
     "name": "stdout",
     "output_type": "stream",
     "text": [
      "0      Hasan\n",
      "1        Ali\n",
      "2      Vahid\n",
      "3     Behnam\n",
      "4    Mahmoud\n",
      "5      Zahra\n",
      "6     Maryam\n",
      "Name: Name, dtype: object\n"
     ]
    }
   ],
   "source": [
    "# View a specific column | دیدن اطلاعات ستون مشخص شده\n",
    "\n",
    "df = pd.read_csv('./data.csv')\n",
    "df = df['Name']\n",
    "\n",
    "print(df)"
   ]
  },
  {
   "cell_type": "code",
   "execution_count": 30,
   "metadata": {},
   "outputs": [
    {
     "name": "stdout",
     "output_type": "stream",
     "text": [
      "Name      Vahid\n",
      "Age          32\n",
      "Salary     2500\n",
      "Name: 2, dtype: object\n"
     ]
    }
   ],
   "source": [
    "# View a specific row | دیدن اطلاعات سطر مشخص شده\n",
    "\n",
    "df = pd.read_csv('./data.csv')\n",
    "df = df.iloc[2,:] # کل سطر 2 \n",
    "\n",
    "print(df)"
   ]
  },
  {
   "cell_type": "code",
   "execution_count": 31,
   "metadata": {},
   "outputs": [
    {
     "name": "stdout",
     "output_type": "stream",
     "text": [
      "32\n"
     ]
    }
   ],
   "source": [
    "# View a specific cell (row 2, column 1) | دیدن مقدار یک سلول خاص\n",
    "\n",
    "df = pd.read_csv('./data.csv')\n",
    "df = df.iloc[2,1] # سطر 2 ستون 1 \n",
    "\n",
    "print(df)"
   ]
  },
  {
   "cell_type": "code",
   "execution_count": 32,
   "metadata": {},
   "outputs": [
    {
     "name": "stdout",
     "output_type": "stream",
     "text": [
      "     Name  Age  Salary\n",
      "1     Ali   33    4000\n",
      "3  Behnam   33    3400\n",
      "5   Zahra   28    3300\n",
      "6  Maryam   28    2700\n"
     ]
    }
   ],
   "source": [
    "# Filter | فیلتر کردن\n",
    "\n",
    "df = pd.read_csv('./data.csv')\n",
    "filtered_df = df[df[\"Salary\"]>2500]\n",
    "\n",
    "print(filtered_df)"
   ]
  },
  {
   "cell_type": "code",
   "execution_count": 33,
   "metadata": {},
   "outputs": [
    {
     "name": "stdout",
     "output_type": "stream",
     "text": [
      "      Name  Age  Salary\n",
      "1      Ali   33    4000\n",
      "3   Behnam   33    3400\n",
      "5    Zahra   28    3300\n",
      "6   Maryam   28    2700\n",
      "2    Vahid   32    2500\n",
      "4  Mahmoud   30    2400\n",
      "0    Hasan   32    1000\n"
     ]
    }
   ],
   "source": [
    "# Sort the dataframe by Salary (descend) | مرتب سازی دیتافریم\n",
    "\n",
    "df = pd.read_csv('./data.csv')\n",
    "# df_sorted = df.sort_values(\"Salary\") # کم به زیاد\n",
    "df_sorted = df.sort_values(\"Salary\", ascending=False) # زیاد به کم\n",
    "\n",
    "print(df_sorted)\n"
   ]
  },
  {
   "cell_type": "code",
   "execution_count": 34,
   "metadata": {},
   "outputs": [
    {
     "name": "stdout",
     "output_type": "stream",
     "text": [
      "      Name  Age\n",
      "2    Vahid   32\n",
      "3   Behnam   33\n",
      "4  Mahmoud   30\n"
     ]
    }
   ],
   "source": [
    "# Select a subset of the dataframe | انتخاب بخشی از دیتافریم\n",
    "\n",
    "df = pd.read_csv('./data.csv')\n",
    "\n",
    "subset = df.loc[2:4, ['Name', 'Age']] # انتخاب سطر های 2 تا 4 و ستون های نام و سن \n",
    "\n",
    "print(subset)"
   ]
  },
  {
   "cell_type": "code",
   "execution_count": 35,
   "metadata": {},
   "outputs": [
    {
     "name": "stdout",
     "output_type": "stream",
     "text": [
      "     Name  Salary\n",
      "Age              \n",
      "28      2       2\n",
      "30      1       1\n",
      "32      2       2\n",
      "33      2       2\n"
     ]
    }
   ],
   "source": [
    "# Group\n",
    "\n",
    "df = pd.read_csv('./data.csv')\n",
    "\n",
    "df_grouped = df.groupby('Age') # گروه بندی اطلاعات جدول با توجه به ستون مشخص شده\n",
    "df_grouped = df_grouped.count() # دیدن تعداد افراد با هر سن\n",
    "\n",
    "print(df_grouped)"
   ]
  },
  {
   "cell_type": "code",
   "execution_count": 36,
   "metadata": {},
   "outputs": [
    {
     "name": "stdout",
     "output_type": "stream",
     "text": [
      "      Name  Age  Salary  test\n",
      "0    Hasan   32    1000     1\n",
      "1      Ali   33    4000     2\n",
      "2    Vahid   32    2500     3\n",
      "3   Behnam   33    3400     4\n",
      "4  Mahmoud   30    2400     5\n",
      "5    Zahra   28    3300     6\n",
      "6   Maryam   28    2700     7\n"
     ]
    }
   ],
   "source": [
    "# Add a new column | اضافه کردن ستون جدید\n",
    "\n",
    "df = pd.read_csv('./data.csv')\n",
    "df[\"test\"] = [1, 2, 3, 4, 5, 6, 7]\n",
    "\n",
    "print(df)"
   ]
  },
  {
   "cell_type": "code",
   "execution_count": 37,
   "metadata": {},
   "outputs": [
    {
     "name": "stdout",
     "output_type": "stream",
     "text": [
      "      Name  Age  Salary\n",
      "0    Hasan   32    1000\n",
      "1      Ali   33    4000\n",
      "2    Vahid   32    2500\n",
      "3   Behnam   33    3400\n",
      "4  Mahmoud   30    2400\n",
      "5    Zahra   28    3300\n",
      "6   Maryam   28    2700\n"
     ]
    }
   ],
   "source": [
    "# Delet a column | حذف کردن یک ستون\n",
    "\n",
    "df.drop(\"test\", axis=1, inplace=True)\n",
    "\n",
    "print(df)"
   ]
  },
  {
   "cell_type": "code",
   "execution_count": 38,
   "metadata": {},
   "outputs": [
    {
     "data": {
      "text/plain": [
       "7"
      ]
     },
     "execution_count": 38,
     "metadata": {},
     "output_type": "execute_result"
    }
   ],
   "source": [
    "# Count the number of rows in the dataframe | نمایش تعداد سطر های یک دیتافریم\n",
    "\n",
    "df = pd.read_csv('./data.csv')\n",
    "len(df)"
   ]
  },
  {
   "cell_type": "code",
   "execution_count": 39,
   "metadata": {},
   "outputs": [
    {
     "name": "stdout",
     "output_type": "stream",
     "text": [
      "      Name  Age  Salary\n",
      "0    Hasan   32  1000.0\n",
      "1      Ali   33  4000.0\n",
      "2    Vahid   32  2500.0\n",
      "3   Behnam   33  3400.0\n",
      "4  Mahmoud   30  2400.0\n",
      "5    Zahra   28  3300.0\n",
      "6   Maryam   28  2700.0\n",
      "7     Test   22     NaN\n"
     ]
    }
   ],
   "source": [
    "# Add a new row | اضافه کردن یک سطر جدید\n",
    "\n",
    "df = pd.read_csv('./data.csv')\n",
    "\n",
    "df.loc[len(df)] = { # سطر 7\n",
    "\"Name\":\"Test\",\n",
    "\"Age\" : 22,\n",
    "# مقدار حقوق رو از عمد اضافه نمیکنیم\n",
    "}\n",
    "\n",
    "print(df)"
   ]
  },
  {
   "cell_type": "code",
   "execution_count": 40,
   "metadata": {},
   "outputs": [
    {
     "name": "stdout",
     "output_type": "stream",
     "text": [
      "    Name    Age  Salary\n",
      "0  False  False   False\n",
      "1  False  False   False\n",
      "2  False  False   False\n",
      "3  False  False   False\n",
      "4  False  False   False\n",
      "5  False  False   False\n",
      "6  False  False   False\n",
      "7  False  False    True\n"
     ]
    }
   ],
   "source": [
    "# Detect elements with NaN values | تشخیص المان هایی که مقدار نن دارن\n",
    "# NaN = Not a Number\n",
    "\n",
    "print(df.isna())"
   ]
  },
  {
   "cell_type": "code",
   "execution_count": 41,
   "metadata": {},
   "outputs": [
    {
     "name": "stdout",
     "output_type": "stream",
     "text": [
      "      Name  Age  Salary\n",
      "0    Hasan   32  1000.0\n",
      "1      Ali   33  4000.0\n",
      "2    Vahid   32  2500.0\n",
      "3   Behnam   33  3400.0\n",
      "4  Mahmoud   30  2400.0\n",
      "5    Zahra   28  3300.0\n",
      "6   Maryam   28  2700.0\n"
     ]
    }
   ],
   "source": [
    "# Dropp rows with NaN values | حذف سطر هایی که دارای مقدار نن هستن\n",
    "\n",
    "df1 = df.dropna()\n",
    "\n",
    "print(df1)"
   ]
  },
  {
   "cell_type": "code",
   "execution_count": 42,
   "metadata": {},
   "outputs": [
    {
     "name": "stdout",
     "output_type": "stream",
     "text": [
      "      Name  Age  Salary\n",
      "0    Hasan   32  1000.0\n",
      "1      Ali   33  4000.0\n",
      "2    Vahid   32  2500.0\n",
      "3   Behnam   33  3400.0\n",
      "4  Mahmoud   30  2400.0\n",
      "5    Zahra   28  3300.0\n",
      "6   Maryam   28  2700.0\n",
      "7     Test   22     0.0\n"
     ]
    }
   ],
   "source": [
    "# Fill NaN values with a specific value (usually 0) | (معمولا 0) و یا میتونیم مقادیر نن رو با مقدار دلخواه خودمون پر کنیم\n",
    "\n",
    "df2 = df.fillna(0)\n",
    "\n",
    "print(df2)"
   ]
  },
  {
   "cell_type": "code",
   "execution_count": 43,
   "metadata": {},
   "outputs": [],
   "source": [
    "# Sav the dataframe to a CSV file | سیو کردن اطلاعات\n",
    "\n",
    "df.to_csv('new_data.csv')"
   ]
  }
 ],
 "metadata": {
  "kernelspec": {
   "display_name": "venv",
   "language": "python",
   "name": "python3"
  },
  "language_info": {
   "codemirror_mode": {
    "name": "ipython",
    "version": 3
   },
   "file_extension": ".py",
   "mimetype": "text/x-python",
   "name": "python",
   "nbconvert_exporter": "python",
   "pygments_lexer": "ipython3",
   "version": "3.12.6"
  }
 },
 "nbformat": 4,
 "nbformat_minor": 2
}
