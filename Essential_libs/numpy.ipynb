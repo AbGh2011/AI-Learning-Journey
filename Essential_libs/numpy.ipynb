{
 "cells": [
  {
   "cell_type": "code",
   "execution_count": 3,
   "metadata": {},
   "outputs": [],
   "source": [
    "import numpy as np"
   ]
  },
  {
   "cell_type": "code",
   "execution_count": null,
   "metadata": {},
   "outputs": [
    {
     "name": "stdout",
     "output_type": "stream",
     "text": [
      "[1 2 3 4]\n"
     ]
    }
   ],
   "source": [
    "# In this note, you are gonna learn how to use Numpy | آموزش کتابخانه نامپای\n",
    "\n",
    "# creating array | ساخت آرایه (لیست)\n",
    "\n",
    "a = np.array([1, 2, 3, 4])\n",
    "print(a)"
   ]
  },
  {
   "cell_type": "code",
   "execution_count": 5,
   "metadata": {},
   "outputs": [
    {
     "name": "stdout",
     "output_type": "stream",
     "text": [
      "[[1 2]\n",
      " [3 4]]\n"
     ]
    }
   ],
   "source": [
    "# creating matrix | ساخت ماتریس\n",
    "\n",
    "b = np.array([[1, 2], [3, 4]])\n",
    "print(b)"
   ]
  },
  {
   "cell_type": "code",
   "execution_count": 6,
   "metadata": {},
   "outputs": [
    {
     "name": "stdout",
     "output_type": "stream",
     "text": [
      "(4,) (2, 2)\n"
     ]
    }
   ],
   "source": [
    "# shape | اندازه و شکل\n",
    "\n",
    "print(a.shape, b.shape)"
   ]
  },
  {
   "cell_type": "code",
   "execution_count": 7,
   "metadata": {},
   "outputs": [
    {
     "name": "stdout",
     "output_type": "stream",
     "text": [
      "(4, 1)\n"
     ]
    }
   ],
   "source": [
    "# reshaping | تغییر سایز و تعداد بعد لیست\n",
    "\n",
    "c = a.reshape(4, 1)\n",
    "print(c.shape)"
   ]
  },
  {
   "cell_type": "code",
   "execution_count": 8,
   "metadata": {},
   "outputs": [
    {
     "name": "stdout",
     "output_type": "stream",
     "text": [
      "(2, 2, 1)\n"
     ]
    }
   ],
   "source": [
    "d = a.reshape(2, 2, -1) # باعث میشه اندازه رو خودش تایین کنه : -1\n",
    "print(d.shape)"
   ]
  },
  {
   "cell_type": "code",
   "execution_count": 9,
   "metadata": {},
   "outputs": [
    {
     "name": "stdout",
     "output_type": "stream",
     "text": [
      "[ 1  2  3  4  5  6  7  8  9 10]\n"
     ]
    }
   ],
   "source": [
    "# concatenating | به هم چسبوندن لیست ها\n",
    "\n",
    "list_1 = np.array([1, 2, 3, 4, 5])\n",
    "list_2 = np.array([6, 7])\n",
    "list_3 = np.array([8, 9, 10])\n",
    "\n",
    "lists = np.concatenate([list_1, list_2, list_3])\n",
    "\n",
    "print(lists)"
   ]
  },
  {
   "cell_type": "code",
   "execution_count": 10,
   "metadata": {},
   "outputs": [
    {
     "name": "stdout",
     "output_type": "stream",
     "text": [
      "[5 7 9]\n",
      "[ 4 10 18]\n"
     ]
    }
   ],
   "source": [
    "# Mathematical operations | عملیات ریاضی \n",
    "\n",
    "a = np.array([1, 2, 3])\n",
    "b = np.array([4, 5, 6])\n",
    "\n",
    "result_jam = a + b\n",
    "result_zarb = a * b\n",
    "\n",
    "print(result_jam)\n",
    "print(result_zarb)"
   ]
  },
  {
   "cell_type": "code",
   "execution_count": 11,
   "metadata": {},
   "outputs": [
    {
     "name": "stdout",
     "output_type": "stream",
     "text": [
      "[4 6 8]\n"
     ]
    }
   ],
   "source": [
    "# slicing | انتخاب یک بخش از لیست\n",
    "\n",
    "a = np.array([1, 2, 3, 4, 5, 6, 7, 8, 9, 10])\n",
    "\n",
    "b = a[3:8:2] # From index 3 to index 8 with 2 steps | از ایندکس 3 تا ایندکس 8 دو تا دو تا\n",
    "\n",
    "print(b)"
   ]
  },
  {
   "cell_type": "code",
   "execution_count": 12,
   "metadata": {},
   "outputs": [
    {
     "name": "stdout",
     "output_type": "stream",
     "text": [
      "[4 5 6 7 8]\n"
     ]
    }
   ],
   "source": [
    "# Choosing a part of an array according to the condition | انتخاب یک بخش از لیست با شرط\n",
    "\n",
    "a = np.array([1, 2, 3, 4, 5, 6, 7, 8])\n",
    "\n",
    "b = a[a>3]\n",
    "\n",
    "print(b)"
   ]
  },
  {
   "cell_type": "code",
   "execution_count": 13,
   "metadata": {},
   "outputs": [
    {
     "name": "stdout",
     "output_type": "stream",
     "text": [
      "36\n"
     ]
    }
   ],
   "source": [
    "# Sum of all elements of an array | جمع تمام المان های لیست\n",
    "\n",
    "a = np.array([1, 2, 3, 4, 5, 6, 7, 8])\n",
    "\n",
    "b = np.sum(a)\n",
    "\n",
    "print(b)"
   ]
  },
  {
   "cell_type": "code",
   "execution_count": 14,
   "metadata": {},
   "outputs": [
    {
     "name": "stdout",
     "output_type": "stream",
     "text": [
      "[-5  0  3  4  5  7  9 11 13 19]\n"
     ]
    }
   ],
   "source": [
    "# Sorting an array | مرتب سازی لیست\n",
    "\n",
    "a = np.array([3, 7, 5, 9, 13, 4, 19, 11, 0, -5])\n",
    "\n",
    "b = np.sort(a)\n",
    "\n",
    "print(b)"
   ]
  },
  {
   "cell_type": "code",
   "execution_count": 15,
   "metadata": {},
   "outputs": [
    {
     "name": "stdout",
     "output_type": "stream",
     "text": [
      "[[1 6 1 8]\n",
      " [8 1 8 2]\n",
      " [3 4 8 3]]\n"
     ]
    }
   ],
   "source": [
    "# Creating a matrix with random values | ساخت ماتریس با مقادیر رندوم\n",
    "\n",
    "a = np.random.randint(1, 10, (3, 4)) # مقادیر شانسی بین 1 تا 10 و ماتریس 3 در 4\n",
    "\n",
    "print(a)"
   ]
  },
  {
   "cell_type": "code",
   "execution_count": 16,
   "metadata": {},
   "outputs": [
    {
     "name": "stdout",
     "output_type": "stream",
     "text": [
      "[[1 2 3]\n",
      " [4 5 6]]\n"
     ]
    }
   ],
   "source": [
    "# verticaling stack | کنار هم گذاشتن عمودی چند لیست\n",
    "\n",
    "a = np.array([1, 2, 3])\n",
    "b = np.array([4, 5, 6])\n",
    "\n",
    "c = np.vstack([a, b])\n",
    "\n",
    "print(c)"
   ]
  },
  {
   "cell_type": "code",
   "execution_count": 17,
   "metadata": {},
   "outputs": [
    {
     "name": "stdout",
     "output_type": "stream",
     "text": [
      "[1 2 3 4 5 6]\n"
     ]
    }
   ],
   "source": [
    "# horizontaling stack | کنار هم گذاشتن افقی چند لیست\n",
    "\n",
    "a = np.array([1, 2, 3])\n",
    "b = np.array([4, 5, 6])\n",
    "\n",
    "c = np.hstack([a, b])\n",
    "\n",
    "print(c)"
   ]
  },
  {
   "cell_type": "code",
   "execution_count": 18,
   "metadata": {},
   "outputs": [
    {
     "name": "stdout",
     "output_type": "stream",
     "text": [
      "[-1.22474487  0.          1.22474487]\n",
      "0.0\n",
      "0.9999999999999999\n"
     ]
    }
   ],
   "source": [
    "# normalizing\n",
    "\n",
    "a = np.array([1, 2, 3])\n",
    "# Calculating avrage of the array | اول باید میانگین لیست رو حساب کنیم\n",
    "mean_a = np.mean(a)\n",
    "# Calculating STD | بعد باید انحراف از معیار رو حساب کنیم\n",
    "std_a = np.std(a)\n",
    "# حالا نورمالایز شده ماتریس اِی رو حساب میکنیم\n",
    "norm_a = (a - mean_a)/std_a\n",
    "\n",
    "print(norm_a)\n",
    "print(np.mean(norm_a))\n",
    "print(np.std(norm_a))"
   ]
  }
 ],
 "metadata": {
  "kernelspec": {
   "display_name": "venv",
   "language": "python",
   "name": "python3"
  },
  "language_info": {
   "codemirror_mode": {
    "name": "ipython",
    "version": 3
   },
   "file_extension": ".py",
   "mimetype": "text/x-python",
   "name": "python",
   "nbconvert_exporter": "python",
   "pygments_lexer": "ipython3",
   "version": "3.12.6"
  }
 },
 "nbformat": 4,
 "nbformat_minor": 2
}
