{
 "cells": [
  {
   "cell_type": "code",
   "execution_count": null,
   "metadata": {},
   "outputs": [],
   "source": [
    "import numpy as np\n",
    "import matplotlib.pyplot as plt\n",
    "from sklearn.linear_model import LinearRegression\n",
    "from sklearn.tree import DecisionTreeRegressor"
   ]
  },
  {
   "cell_type": "code",
   "execution_count": null,
   "metadata": {},
   "outputs": [],
   "source": [
    "# Linear and nonlinear regression | رگرسیون خطی و غیر خطی\n",
    "\n",
    "# Linear regression | رگرسیون خطی\n",
    "\n",
    "# میخوایم یه رگرسیون خطی ایجاد کنیم\n",
    "# با توجه به رابطه زیر\n",
    "# x -> y\n",
    "# 1 -> 1\n",
    "# 2 -> 3\n",
    "# 3 -> 5\n",
    "# 4 -> 7\n",
    "# 5 -> ?\n",
    "# y = x * 2 - 1\n",
    "# ماشین باید مقدار 5 رو خودش پیدا کنه\n",
    "\n",
    "# Define data | تعریف داده ها\n",
    "x = np.array([1, 2, 3, 4]).reshape(-1, 1) # برای دو بعدی کردن آرایه و جلوگیری از خطا از ریشیپ استفاده میکنیم\n",
    "y = np.array([1, 3, 5, 7])\n",
    "\n",
    "# Plot x and y | رسم نمودار ایکس و ایگرگ\n",
    "plt.plot(x, y, 'o')\n",
    "plt.xlabel(\"X\")\n",
    "plt.ylabel(\"Y\")\n",
    "plt.show()"
   ]
  },
  {
   "cell_type": "code",
   "execution_count": null,
   "metadata": {},
   "outputs": [],
   "source": [
    "# Create the model | ایجاد مدل\n",
    "model = LinearRegression()\n",
    "\n",
    "# Fit the model | آموزش مدل روی داده‌ها\n",
    "# در واقع بعد از این کد مدل یاد میگیره مقدار ایگرگ رو پیشبینی کنه\n",
    "model.fit(x, y)"
   ]
  },
  {
   "cell_type": "code",
   "execution_count": null,
   "metadata": {},
   "outputs": [],
   "source": [
    "# Show slope and intercept | نمایش شیب و عرض از مبدا\n",
    "\n",
    "# معادله خط\n",
    "# y = m * x + c\n",
    "# معادله خط = شیب ضربدر ایکس بعلاوه عرض از مبدا\n",
    "# عرض از مبدا یعنی وقتی ایکس مساوی با صفره، ایگرگ چنده؟\n",
    "\n",
    "m = model.coef_[0]  # مقدار شیب خط\n",
    "c = model.intercept_  # مقدار عرض از مبدا\n",
    "\n",
    "print(m, c)"
   ]
  },
  {
   "cell_type": "code",
   "execution_count": null,
   "metadata": {},
   "outputs": [],
   "source": [
    "# Plot the data and the regression line | رسم داده‌ها و خط رگرسیون\n",
    "\n",
    "plt.plot(x, y, marker='o')\n",
    "plt.plot(x, model.predict(x)) # با دستور پریدیکت میتونیم ببینیم مدلمون برای ایکس ها چه جواب هایی میده\n",
    "plt.show()"
   ]
  },
  {
   "cell_type": "code",
   "execution_count": null,
   "metadata": {},
   "outputs": [],
   "source": [
    "# Predict for a new value | پیش‌ بینی مقدار جدید\n",
    "\n",
    "result = model.predict([[5]])\n",
    "\n",
    "print(result)"
   ]
  },
  {
   "cell_type": "code",
   "execution_count": null,
   "metadata": {},
   "outputs": [],
   "source": [
    "# Nonlinear regression | رگرسیون غیر خطی\n",
    "\n",
    "# Define data | تعریف داده‌ ها\n",
    "years_of_experience = np.array([0, 1, 2, 3, 4, 6, 8, 10]).reshape(-1, 1)\n",
    "salaries = np.array([30000, 40000, 55000, 60000, 70000, 80000, 85000, 87000])\n",
    "\n",
    "# Plot data | رسم داده‌ ها\n",
    "plt.plot(years_of_experience, salaries, 'o')\n",
    "plt.show()"
   ]
  },
  {
   "cell_type": "code",
   "execution_count": null,
   "metadata": {},
   "outputs": [],
   "source": [
    "# Create and fit the model | ساخت و آموزش مدل\n",
    "\n",
    "model = DecisionTreeRegressor(max_depth=4) # عمق رو با مکس دپث مشخص میکنیم\n",
    "model.fit(years_of_experience, salaries)\n",
    "\n",
    "# Predict and plot | پیش‌ بینی و رسم نمودار\n",
    "y_predict = model.predict(years_of_experience)\n",
    "\n",
    "# Predict for a missing value | پیش‌ بینی مقدار جدید\n",
    "plt.plot(years_of_experience, salaries, 'o')\n",
    "plt.plot(years_of_experience, y_predict)\n",
    "plt.show()"
   ]
  },
  {
   "cell_type": "code",
   "execution_count": null,
   "metadata": {},
   "outputs": [],
   "source": [
    "# Predict for a missing value | پیش‌ بینی مقدار جدید\n",
    "result = model.predict([[5]])\n",
    "\n",
    "print(result)"
   ]
  }
 ],
 "metadata": {
  "kernelspec": {
   "display_name": "venv",
   "language": "python",
   "name": "python3"
  },
  "language_info": {
   "codemirror_mode": {
    "name": "ipython",
    "version": 3
   },
   "file_extension": ".py",
   "mimetype": "text/x-python",
   "name": "python",
   "nbconvert_exporter": "python",
   "pygments_lexer": "ipython3",
   "version": "3.12.6"
  }
 },
 "nbformat": 4,
 "nbformat_minor": 2
}
