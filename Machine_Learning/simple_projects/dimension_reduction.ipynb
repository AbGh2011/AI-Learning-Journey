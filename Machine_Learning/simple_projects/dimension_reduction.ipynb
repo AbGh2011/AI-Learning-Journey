{
 "cells": [
  {
   "cell_type": "code",
   "execution_count": 1,
   "metadata": {},
   "outputs": [],
   "source": [
    "from sklearn.datasets import load_digits\n",
    "import matplotlib.pyplot as plt\n",
    "from sklearn.model_selection import train_test_split\n",
    "from sklearn.metrics import accuracy_score, precision_score, recall_score\n",
    "from sklearn.preprocessing import MinMaxScaler\n",
    "from sklearn.ensemble import RandomForestClassifier\n",
    "from sklearn.svm import SVC\n",
    "from sklearn.neural_network import MLPClassifier\n",
    "from sklearn.neighbors import KNeighborsClassifier\n",
    "from sklearn.decomposition import PCA"
   ]
  },
  {
   "cell_type": "markdown",
   "metadata": {},
   "source": [
    "# Dataset info"
   ]
  },
  {
   "cell_type": "code",
   "execution_count": 2,
   "metadata": {},
   "outputs": [
    {
     "name": "stdout",
     "output_type": "stream",
     "text": [
      ".. _digits_dataset:\n",
      "\n",
      "Optical recognition of handwritten digits dataset\n",
      "--------------------------------------------------\n",
      "\n",
      "**Data Set Characteristics:**\n",
      "\n",
      ":Number of Instances: 1797\n",
      ":Number of Attributes: 64\n",
      ":Attribute Information: 8x8 image of integer pixels in the range 0..16.\n",
      ":Missing Attribute Values: None\n",
      ":Creator: E. Alpaydin (alpaydin '@' boun.edu.tr)\n",
      ":Date: July; 1998\n",
      "\n",
      "This is a copy of the test set of the UCI ML hand-written digits datasets\n",
      "https://archive.ics.uci.edu/ml/datasets/Optical+Recognition+of+Handwritten+Digits\n",
      "\n",
      "The data set contains images of hand-written digits: 10 classes where\n",
      "each class refers to a digit.\n",
      "\n",
      "Preprocessing programs made available by NIST were used to extract\n",
      "normalized bitmaps of handwritten digits from a preprinted form. From a\n",
      "total of 43 people, 30 contributed to the training set and different 13\n",
      "to the test set. 32x32 bitmaps are divided into nonoverlapping blocks of\n",
      "4x4 and the number of on pixels are counted in each block. This generates\n",
      "an input matrix of 8x8 where each element is an integer in the range\n",
      "0..16. This reduces dimensionality and gives invariance to small\n",
      "distortions.\n",
      "\n",
      "For info on NIST preprocessing routines, see M. D. Garris, J. L. Blue, G.\n",
      "T. Candela, D. L. Dimmick, J. Geist, P. J. Grother, S. A. Janet, and C.\n",
      "L. Wilson, NIST Form-Based Handprint Recognition System, NISTIR 5469,\n",
      "1994.\n",
      "\n",
      ".. dropdown:: References\n",
      "\n",
      "  - C. Kaynak (1995) Methods of Combining Multiple Classifiers and Their\n",
      "    Applications to Handwritten Digit Recognition, MSc Thesis, Institute of\n",
      "    Graduate Studies in Science and Engineering, Bogazici University.\n",
      "  - E. Alpaydin, C. Kaynak (1998) Cascading Classifiers, Kybernetika.\n",
      "  - Ken Tang and Ponnuthurai N. Suganthan and Xi Yao and A. Kai Qin.\n",
      "    Linear dimensionalityreduction using relevance weighted LDA. School of\n",
      "    Electrical and Electronic Engineering Nanyang Technological University.\n",
      "    2005.\n",
      "  - Claudio Gentile. A New Approximate Maximal Margin Classification\n",
      "    Algorithm. NIPS. 2000.\n",
      "\n"
     ]
    }
   ],
   "source": [
    "# Dimension reduction using PCA\n",
    "# پروژه کاهش بعد و حذف فیچر های اضافه روی دیتاست تصویر اعداد سایکیت لرن\n",
    "\n",
    "# هدف این است که ویژگی‌های غیرضروری رو حذف کنیم ولی همچنان اطلاعات مهم رو حفظ کنیم\n",
    "\n",
    "digits = load_digits()\n",
    "# Dataset info | اطلاعات دیتاست\n",
    "print(digits.DESCR)"
   ]
  },
  {
   "cell_type": "code",
   "execution_count": 3,
   "metadata": {},
   "outputs": [
    {
     "data": {
      "text/plain": [
       "np.int64(8)"
      ]
     },
     "execution_count": 3,
     "metadata": {},
     "output_type": "execute_result"
    }
   ],
   "source": [
    "# Show the label of the 501st sample\n",
    "# لیبل ها\n",
    "# میخوایم ببینیم عدد نمونه 501ام چند بوده\n",
    "# تارگت اینجا به معنی همون لیبل هست\n",
    "digits.target[500]"
   ]
  },
  {
   "cell_type": "code",
   "execution_count": 4,
   "metadata": {},
   "outputs": [
    {
     "data": {
      "text/plain": [
       "array([ 0.,  0.,  3., 10., 14.,  3.,  0.,  0.,  0.,  8., 16., 11., 10.,\n",
       "       13.,  0.,  0.,  0.,  7., 14.,  0.,  1., 15.,  2.,  0.,  0.,  2.,\n",
       "       16.,  9., 16., 16.,  1.,  0.,  0.,  0., 12., 16., 15., 15.,  2.,\n",
       "        0.,  0.,  0., 12., 10.,  0.,  8.,  8.,  0.,  0.,  0.,  9., 12.,\n",
       "        4.,  7., 12.,  0.,  0.,  0.,  2., 11., 16., 16.,  9.,  0.])"
      ]
     },
     "execution_count": 4,
     "metadata": {},
     "output_type": "execute_result"
    }
   ],
   "source": [
    "# Show the features of the 501st sample\n",
    "# ویژگی ها یا همون فیچر ها\n",
    "# میخوایم فیچر های نمونه 501ام رو ببینیم\n",
    "# دیتا اینجا به معنی همون فیچر هست\n",
    "digits.data[500]"
   ]
  },
  {
   "cell_type": "code",
   "execution_count": 5,
   "metadata": {},
   "outputs": [
    {
     "data": {
      "text/plain": [
       "array([[ 0.,  0.,  3., 10., 14.,  3.,  0.,  0.],\n",
       "       [ 0.,  8., 16., 11., 10., 13.,  0.,  0.],\n",
       "       [ 0.,  7., 14.,  0.,  1., 15.,  2.,  0.],\n",
       "       [ 0.,  2., 16.,  9., 16., 16.,  1.,  0.],\n",
       "       [ 0.,  0., 12., 16., 15., 15.,  2.,  0.],\n",
       "       [ 0.,  0., 12., 10.,  0.,  8.,  8.,  0.],\n",
       "       [ 0.,  0.,  9., 12.,  4.,  7., 12.,  0.],\n",
       "       [ 0.,  0.,  2., 11., 16., 16.,  9.,  0.]])"
      ]
     },
     "execution_count": 5,
     "metadata": {},
     "output_type": "execute_result"
    }
   ],
   "source": [
    "# نمایش فیچر های نمونه 501ام به صورت ماتریس 8 در 8\n",
    "# Display the 8x8 image matrix of the 501st sample\n",
    "\n",
    "digits.images[500]"
   ]
  },
  {
   "cell_type": "code",
   "execution_count": 6,
   "metadata": {},
   "outputs": [
    {
     "name": "stdout",
     "output_type": "stream",
     "text": [
      "8\n"
     ]
    },
    {
     "data": {
      "image/png": "[encoded data removed]",
      "text/plain": [
       "<Figure size 640x480 with 1 Axes>"
      ]
     },
     "metadata": {},
     "output_type": "display_data"
    }
   ],
   "source": [
    "# نمایش تصویر نمونه 501ام همراه با برچسبش\n",
    "# Visualize the 501st sample image with its label\n",
    "\n",
    "x = digits.images[500] # انتخاب تصویر نمونه ۵۰۱ام\n",
    "\n",
    "print(digits.target[500]) # نمایش لیبل این نمونه\n",
    "\n",
    "plt.gray() # تنظیم نقشه رنگی به سیاه و سفید\n",
    "plt.imshow(x) # نمایش تصویر\n",
    "\n",
    "plt.show() # نمایش خروجی"
   ]
  },
  {
   "cell_type": "markdown",
   "metadata": {},
   "source": [
    "# Pre-processing"
   ]
  },
  {
   "cell_type": "code",
   "execution_count": 7,
   "metadata": {},
   "outputs": [
    {
     "name": "stdout",
     "output_type": "stream",
     "text": [
      "features => train: (1437, 64) - test: (360, 64)\n",
      "labels => train: (1437,) - test: (360,)\n"
     ]
    }
   ],
   "source": [
    "# تقسیم مجموعه داده به مجموعه‌های ترین (80%) و تست (20%)\n",
    "# Split the dataset into training (80%) and testing (20%) sets\n",
    "X_train, X_test, y_train, y_test = train_test_split(digits.data, digits.target, test_size=0.2)\n",
    "\n",
    "print(f\"features => train: {X_train.shape} - test: {X_test.shape}\")\n",
    "print(f\"labels => train: {y_train.shape} - test: {y_test.shape}\")"
   ]
  },
  {
   "cell_type": "code",
   "execution_count": 8,
   "metadata": {},
   "outputs": [],
   "source": [
    "# نرمال‌سازی داده‌های ویژگی به محدوده بین 0 و 1\n",
    "# Normalize the feature data to a range between 0 and 1\n",
    "\n",
    "scalar = MinMaxScaler(feature_range=(0, 1)) # همه مقادیر بین 0 و 1 قرار میگیرن\n",
    "\n",
    "X_train = scalar.fit_transform(X_train)\n",
    "X_test = scalar.transform(X_test) # اینجا از فیت ترنسفرم استفاده نمیکنیم چون مدل نباید داده های تست رو یاد بگیره"
   ]
  },
  {
   "cell_type": "markdown",
   "metadata": {},
   "source": [
    "# PCA"
   ]
  },
  {
   "cell_type": "code",
   "execution_count": 9,
   "metadata": {},
   "outputs": [],
   "source": [
    "# کاهش فیچر های نمونه ها از 64 تا به 32 تا\n",
    "\n",
    "pca = PCA(n_components=32) # کاهش ابعاد به 32 ویژگی اصلی\n",
    "\n",
    "# انجام عملیات کاهش ابعاد به 3 ویژگی اصلی\n",
    "X_train = pca.fit_transform(X_train)\n",
    "X_test = pca.transform(X_test)"
   ]
  },
  {
   "cell_type": "markdown",
   "metadata": {},
   "source": [
    "# Performance metric"
   ]
  },
  {
   "cell_type": "code",
   "execution_count": 10,
   "metadata": {},
   "outputs": [],
   "source": [
    "# تعریف تابع برای محاسبه ی معیارهای ارزیابی\n",
    "# Define a function to calculate and print accuracy, precision, and recall metrics\n",
    "\n",
    "def calculate_metrics(y_train, y_test, y_pred_train, y_pred_test):\n",
    "    acc_train = accuracy_score(y_true=y_train, y_pred=y_pred_train)\n",
    "    acc_test = accuracy_score(y_true=y_test, y_pred=y_pred_test)\n",
    "\n",
    "    p = precision_score(y_true=y_test, y_pred=y_pred_test, average='macro') # توی دسته بندی چند کلاسه نیازه که مشخص کنیم در نهایت مقدار نهایی چجوری محاسبه بشه \n",
    "\n",
    "    r = recall_score(y_true=y_test, y_pred=y_pred_test, average='macro')\n",
    "\n",
    "    print(f\"acc train : {acc_train} - acc test : {acc_test} - precision : {p} - recall : {r}\")\n",
    "\n",
    "    return acc_train, acc_test, p, r"
   ]
  },
  {
   "cell_type": "markdown",
   "metadata": {},
   "source": [
    "# Classification"
   ]
  },
  {
   "cell_type": "markdown",
   "metadata": {},
   "source": [
    "1. Random Forest"
   ]
  },
  {
   "cell_type": "code",
   "execution_count": 11,
   "metadata": {},
   "outputs": [
    {
     "name": "stdout",
     "output_type": "stream",
     "text": [
      "acc train : 1.0 - acc test : 0.9833333333333333 - precision : 0.9823809523809525 - recall : 0.9844927536231884\n"
     ]
    }
   ],
   "source": [
    "# الگوریتم رندوم فارست\n",
    "# Create and fit the model\n",
    "\n",
    "rf = RandomForestClassifier(max_depth=128, n_estimators=256)\n",
    "rf.fit(X_train, y_train)\n",
    "\n",
    "# Calculating accuracy, precision, and recall\n",
    "y_pred_train = rf.predict(X_train)\n",
    "y_pred_test = rf.predict(X_test)\n",
    "\n",
    "acc_train_rf, acc_test_rf, p_rf, r_rf = calculate_metrics(y_train, y_test, y_pred_train, y_pred_test)"
   ]
  },
  {
   "cell_type": "markdown",
   "metadata": {},
   "source": [
    "2. SVM"
   ]
  },
  {
   "cell_type": "code",
   "execution_count": 12,
   "metadata": {},
   "outputs": [
    {
     "name": "stdout",
     "output_type": "stream",
     "text": [
      "acc train : 0.9979123173277662 - acc test : 0.9888888888888889 - precision : 0.9884528162169668 - recall : 0.9903488372093022\n"
     ]
    }
   ],
   "source": [
    "# الگوریتم اس وی ام\n",
    "# Create and fit the model\n",
    "\n",
    "svm = SVC(kernel='poly')\n",
    "svm.fit(X_train, y_train)\n",
    "\n",
    "# Calculating accuracy, precision, and recall\n",
    "y_pred_train = svm.predict(X_train)\n",
    "y_pred_test = svm.predict(X_test)\n",
    "\n",
    "acc_train_svm, acc_test_svm, p_svm, r_svm = calculate_metrics(y_train, y_test, y_pred_train, y_pred_test)"
   ]
  },
  {
   "cell_type": "markdown",
   "metadata": {},
   "source": [
    "3. ANN"
   ]
  },
  {
   "cell_type": "code",
   "execution_count": 13,
   "metadata": {},
   "outputs": [
    {
     "name": "stdout",
     "output_type": "stream",
     "text": [
      "acc train : 1.0 - acc test : 0.9805555555555555 - precision : 0.9789901732017672 - recall : 0.9813338388945063\n"
     ]
    }
   ],
   "source": [
    "# الگوریتم شبکه عصبی مصنوعی\n",
    "# Create and fit the model\n",
    "\n",
    "ann = MLPClassifier(hidden_layer_sizes=256, batch_size=64, solver='adam', learning_rate='adaptive')\n",
    "ann.fit(X_train, y_train)\n",
    "\n",
    "# Calculating accuracy, precision, and recall\n",
    "y_pred_train = ann.predict(X_train)\n",
    "y_pred_test = ann.predict(X_test)\n",
    "\n",
    "acc_train_ann, acc_test_ann, p_ann, r_ann = calculate_metrics(y_train, y_test, y_pred_train, y_pred_test)"
   ]
  },
  {
   "cell_type": "markdown",
   "metadata": {},
   "source": [
    "4. KNN"
   ]
  },
  {
   "cell_type": "code",
   "execution_count": 14,
   "metadata": {},
   "outputs": [
    {
     "name": "stdout",
     "output_type": "stream",
     "text": [
      "acc train : 0.988169798190675 - acc test : 0.9861111111111112 - precision : 0.9870503546947234 - recall : 0.9842600574712643\n"
     ]
    }
   ],
   "source": [
    "# الگوریتم رندوم فارست\n",
    "# Create and fit the model\n",
    "\n",
    "knn = KNeighborsClassifier(n_neighbors=8, algorithm='kd_tree', leaf_size=28)\n",
    "knn.fit(X_train, y_train)\n",
    "\n",
    "y_pred_train = knn.predict(X_train)\n",
    "y_pred_test = knn. predict(X_test)\n",
    "\n",
    "acc_train_knn, acc_test_knn, p_knn, r_knn = calculate_metrics(y_train, y_test, y_pred_train, y_pred_test)"
   ]
  },
  {
   "cell_type": "markdown",
   "metadata": {},
   "source": [
    "# Model Comparison"
   ]
  },
  {
   "cell_type": "code",
   "execution_count": 15,
   "metadata": {},
   "outputs": [
    {
     "data": {
      "image/png": "[encoded data removed]",
      "text/plain": [
       "<Figure size 640x480 with 1 Axes>"
      ]
     },
     "metadata": {},
     "output_type": "display_data"
    }
   ],
   "source": [
    "# مقایسه همه مدل ها با هم\n",
    "\n",
    "# Compare train acuracy of all models\n",
    "# مقایسه اکیورسی داده های ترین مدل‌ ها\n",
    "\n",
    "title = [\"RF\", 'SVM', 'ANN', 'KNN']\n",
    "acc_train = [acc_train_rf, acc_train_svm, acc_train_ann, acc_train_knn]\n",
    "colors = ['red', 'yellow', 'orange', 'green']\n",
    "plt.bar(title, acc_train, color=colors)\n",
    "plt.grid()\n",
    "plt.show()"
   ]
  },
  {
   "cell_type": "code",
   "execution_count": 16,
   "metadata": {},
   "outputs": [
    {
     "data": {
      "image/png": "[encoded data removed]",
      "text/plain": [
       "<Figure size 640x480 with 1 Axes>"
      ]
     },
     "metadata": {},
     "output_type": "display_data"
    }
   ],
   "source": [
    "# Compare test acuracy of all models\n",
    "# مقایسه اکیورسی داده های تست مدل‌ ها\n",
    "\n",
    "title = [\"RF\", 'SVM', 'ANN', 'KNN']\n",
    "acc_test = [acc_test_rf, acc_test_svm, acc_test_ann, acc_test_knn]\n",
    "colors = ['red', 'yellow', 'orange', 'green']\n",
    "plt.bar(title, acc_test, color=colors)\n",
    "plt.grid()\n",
    "plt.show()"
   ]
  },
  {
   "cell_type": "code",
   "execution_count": 17,
   "metadata": {},
   "outputs": [
    {
     "data": {
      "image/png": "[encoded data removed]",
      "text/plain": [
       "<Figure size 640x480 with 1 Axes>"
      ]
     },
     "metadata": {},
     "output_type": "display_data"
    }
   ],
   "source": [
    "# Compare test precision of all models\n",
    "# مقایسه پریسیژن مدل‌ ها\n",
    "\n",
    "title = [\"RF\", 'SVM', 'ANN', 'KNN']\n",
    "p = [p_rf, p_svm, p_ann, p_knn]\n",
    "colors = ['red', 'yellow', 'orange', 'green']\n",
    "plt.bar(title, p, color=colors)\n",
    "plt.grid()\n",
    "plt.show()"
   ]
  },
  {
   "cell_type": "code",
   "execution_count": 18,
   "metadata": {},
   "outputs": [
    {
     "data": {
      "image/png": "[encoded data removed]",
      "text/plain": [
       "<Figure size 640x480 with 1 Axes>"
      ]
     },
     "metadata": {},
     "output_type": "display_data"
    }
   ],
   "source": [
    "# Compare test recall of all models\n",
    "# مقایسه ریکال مدل‌ها\n",
    "\n",
    "title = ['RF', 'SVM', 'ANN', 'KNN']\n",
    "r = [r_rf, r_svm, r_ann, r_knn]\n",
    "colors = ['red', 'yellow', 'orange', 'green']\n",
    "plt.bar(title, r, color=colors)\n",
    "plt.grid()\n",
    "plt.show()"
   ]
  }
 ],
 "metadata": {
  "kernelspec": {
   "display_name": "venv",
   "language": "python",
   "name": "python3"
  },
  "language_info": {
   "codemirror_mode": {
    "name": "ipython",
    "version": 3
   },
   "file_extension": ".py",
   "mimetype": "text/x-python",
   "name": "python",
   "nbconvert_exporter": "python",
   "pygments_lexer": "ipython3",
   "version": "3.12.6"
  }
 },
 "nbformat": 4,
 "nbformat_minor": 2
}
