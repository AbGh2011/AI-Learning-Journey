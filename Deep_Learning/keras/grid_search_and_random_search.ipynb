{
  "cells": [
    {
      "cell_type": "code",
      "execution_count": 24,
      "metadata": {
        "colab": {
          "base_uri": "https://localhost:8080/"
        },
        "collapsed": true,
        "id": "uUPhQEgVqSPy",
        "outputId": "d66ebdc9-b788-400f-a100-f807219c8bbf"
      },
      "outputs": [],
      "source": [
        "from sklearn.datasets import make_classification\n",
        "from sklearn.model_selection import train_test_split\n",
        "from tensorflow import keras\n",
        "import tensorflow as tf\n",
        "from scikeras.wrappers import KerasClassifier\n",
        "from sklearn.model_selection import GridSearchCV\n",
        "from sklearn.model_selection import RandomizedSearchCV"
      ]
    },
    {
      "cell_type": "markdown",
      "metadata": {
        "id": "lwc_aYPmjDJJ"
      },
      "source": [
        "**Dataset definition**"
      ]
    },
    {
      "cell_type": "code",
      "execution_count": null,
      "metadata": {
        "colab": {
          "base_uri": "https://localhost:8080/"
        },
        "id": "oTGgLr_Ti9oL",
        "outputId": "d3b79d7a-b300-4423-d2da-5fae9ca6319a"
      },
      "outputs": [
        {
          "data": {
            "text/plain": [
              "(array([-0.6693561 , -1.49577819, -0.87076638,  1.14183093,  0.02160555,\n",
              "         1.73062972, -1.25169805,  0.28930464,  0.35716259, -0.19681112,\n",
              "         0.82927369,  0.15485045, -0.21997009, -0.73913656,  1.80201193,\n",
              "         1.63460551, -0.93817985, -1.26733697, -1.2763343 ,  1.01664321]),\n",
              " np.int64(1))"
            ]
          },
          "execution_count": 3,
          "metadata": {},
          "output_type": "execute_result"
        }
      ],
      "source": [
        "# Determine the best parameters for a model | تعیین بهترین پارامتر ها برای یک مدل\n",
        "# grid search -> Review all the gaven parameters | تمام پارامتر هایی که ما میگیم رو بررسی میکنه و بهترین پارامتر هارو میده\n",
        "# random_search -> Review some of them | چند تا از پارامتر هایی که ما گفتیم رو شانسی انتخاب میکنه و تست میکنه و بعد بهترینشو تحویل میده\n",
        "\n",
        "# Define dataset | ساخت دیتاست\n",
        "X, y = make_classification(n_samples=1000, n_features=20, n_classes=2, random_state=42)\n",
        "\n",
        "X[0], y[0]"
      ]
    },
    {
      "cell_type": "code",
      "execution_count": null,
      "metadata": {
        "id": "k_UZTq2OjTA7"
      },
      "outputs": [],
      "source": [
        "# Split train and test data | جدا کردن داده های ترِین و تست\n",
        "\n",
        "X_train, X_test, y_train, y_test = train_test_split(X, y, test_size=0.2)"
      ]
    },
    {
      "cell_type": "markdown",
      "metadata": {
        "id": "wd_kbCIwnYc8"
      },
      "source": [
        "**Model definition**"
      ]
    },
    {
      "cell_type": "code",
      "execution_count": 5,
      "metadata": {
        "id": "4EZB78wzndXJ"
      },
      "outputs": [],
      "source": [
        "# تعریف تابع برای ساخت مدل\n",
        "\n",
        "def create_model(hidden_units=16, optimizer='adam'):\n",
        "  model = keras.Sequential()\n",
        "\n",
        "  model.add(keras.layers.Dense(units=hidden_units, input_shape=[20], activation='relu'))\n",
        "  model.add(keras.layers.Dense(units=1, activation='sigmoid'))\n",
        "\n",
        "  model.compile(optimizer=optimizer, loss=tf.losses.binary_crossentropy, metrics=['accuracy'])\n",
        "\n",
        "  return model"
      ]
    },
    {
      "cell_type": "markdown",
      "metadata": {
        "id": "tZa9WdMyoYJa"
      },
      "source": [
        "**Grid search**"
      ]
    },
    {
      "cell_type": "code",
      "execution_count": null,
      "metadata": {
        "colab": {
          "base_uri": "https://localhost:8080/",
          "height": 329
        },
        "id": "HiWZ2jbWnze6",
        "outputId": "2cfbba22-e8f2-42e1-cdb6-47b75b7d2a9c"
      },
      "outputs": [
        {
          "name": "stderr",
          "output_type": "stream",
          "text": [
            "c:\\Users\\Abolfazl\\Desktop\\Cumputer\\programing\\machine_learning\\AI-Learning-Journey\\venv\\Lib\\site-packages\\keras\\src\\layers\\core\\dense.py:93: UserWarning: Do not pass an `input_shape`/`input_dim` argument to a layer. When using Sequential models, prefer using an `Input(shape)` object as the first layer in the model instead.\n",
            "  super().__init__(activity_regularizer=activity_regularizer, **kwargs)\n",
            "c:\\Users\\Abolfazl\\Desktop\\Cumputer\\programing\\machine_learning\\AI-Learning-Journey\\venv\\Lib\\site-packages\\keras\\src\\layers\\core\\dense.py:93: UserWarning: Do not pass an `input_shape`/`input_dim` argument to a layer. When using Sequential models, prefer using an `Input(shape)` object as the first layer in the model instead.\n",
            "  super().__init__(activity_regularizer=activity_regularizer, **kwargs)\n",
            "c:\\Users\\Abolfazl\\Desktop\\Cumputer\\programing\\machine_learning\\AI-Learning-Journey\\venv\\Lib\\site-packages\\keras\\src\\layers\\core\\dense.py:93: UserWarning: Do not pass an `input_shape`/`input_dim` argument to a layer. When using Sequential models, prefer using an `Input(shape)` object as the first layer in the model instead.\n",
            "  super().__init__(activity_regularizer=activity_regularizer, **kwargs)\n",
            "c:\\Users\\Abolfazl\\Desktop\\Cumputer\\programing\\machine_learning\\AI-Learning-Journey\\venv\\Lib\\site-packages\\keras\\src\\layers\\core\\dense.py:93: UserWarning: Do not pass an `input_shape`/`input_dim` argument to a layer. When using Sequential models, prefer using an `Input(shape)` object as the first layer in the model instead.\n",
            "  super().__init__(activity_regularizer=activity_regularizer, **kwargs)\n",
            "c:\\Users\\Abolfazl\\Desktop\\Cumputer\\programing\\machine_learning\\AI-Learning-Journey\\venv\\Lib\\site-packages\\keras\\src\\layers\\core\\dense.py:93: UserWarning: Do not pass an `input_shape`/`input_dim` argument to a layer. When using Sequential models, prefer using an `Input(shape)` object as the first layer in the model instead.\n",
            "  super().__init__(activity_regularizer=activity_regularizer, **kwargs)\n",
            "c:\\Users\\Abolfazl\\Desktop\\Cumputer\\programing\\machine_learning\\AI-Learning-Journey\\venv\\Lib\\site-packages\\keras\\src\\layers\\core\\dense.py:93: UserWarning: Do not pass an `input_shape`/`input_dim` argument to a layer. When using Sequential models, prefer using an `Input(shape)` object as the first layer in the model instead.\n",
            "  super().__init__(activity_regularizer=activity_regularizer, **kwargs)\n",
            "c:\\Users\\Abolfazl\\Desktop\\Cumputer\\programing\\machine_learning\\AI-Learning-Journey\\venv\\Lib\\site-packages\\keras\\src\\layers\\core\\dense.py:93: UserWarning: Do not pass an `input_shape`/`input_dim` argument to a layer. When using Sequential models, prefer using an `Input(shape)` object as the first layer in the model instead.\n",
            "  super().__init__(activity_regularizer=activity_regularizer, **kwargs)\n",
            "c:\\Users\\Abolfazl\\Desktop\\Cumputer\\programing\\machine_learning\\AI-Learning-Journey\\venv\\Lib\\site-packages\\keras\\src\\layers\\core\\dense.py:93: UserWarning: Do not pass an `input_shape`/`input_dim` argument to a layer. When using Sequential models, prefer using an `Input(shape)` object as the first layer in the model instead.\n",
            "  super().__init__(activity_regularizer=activity_regularizer, **kwargs)\n",
            "c:\\Users\\Abolfazl\\Desktop\\Cumputer\\programing\\machine_learning\\AI-Learning-Journey\\venv\\Lib\\site-packages\\keras\\src\\layers\\core\\dense.py:93: UserWarning: Do not pass an `input_shape`/`input_dim` argument to a layer. When using Sequential models, prefer using an `Input(shape)` object as the first layer in the model instead.\n",
            "  super().__init__(activity_regularizer=activity_regularizer, **kwargs)\n",
            "c:\\Users\\Abolfazl\\Desktop\\Cumputer\\programing\\machine_learning\\AI-Learning-Journey\\venv\\Lib\\site-packages\\keras\\src\\layers\\core\\dense.py:93: UserWarning: Do not pass an `input_shape`/`input_dim` argument to a layer. When using Sequential models, prefer using an `Input(shape)` object as the first layer in the model instead.\n",
            "  super().__init__(activity_regularizer=activity_regularizer, **kwargs)\n",
            "c:\\Users\\Abolfazl\\Desktop\\Cumputer\\programing\\machine_learning\\AI-Learning-Journey\\venv\\Lib\\site-packages\\keras\\src\\layers\\core\\dense.py:93: UserWarning: Do not pass an `input_shape`/`input_dim` argument to a layer. When using Sequential models, prefer using an `Input(shape)` object as the first layer in the model instead.\n",
            "  super().__init__(activity_regularizer=activity_regularizer, **kwargs)\n",
            "c:\\Users\\Abolfazl\\Desktop\\Cumputer\\programing\\machine_learning\\AI-Learning-Journey\\venv\\Lib\\site-packages\\keras\\src\\layers\\core\\dense.py:93: UserWarning: Do not pass an `input_shape`/`input_dim` argument to a layer. When using Sequential models, prefer using an `Input(shape)` object as the first layer in the model instead.\n",
            "  super().__init__(activity_regularizer=activity_regularizer, **kwargs)\n",
            "c:\\Users\\Abolfazl\\Desktop\\Cumputer\\programing\\machine_learning\\AI-Learning-Journey\\venv\\Lib\\site-packages\\keras\\src\\layers\\core\\dense.py:93: UserWarning: Do not pass an `input_shape`/`input_dim` argument to a layer. When using Sequential models, prefer using an `Input(shape)` object as the first layer in the model instead.\n",
            "  super().__init__(activity_regularizer=activity_regularizer, **kwargs)\n",
            "c:\\Users\\Abolfazl\\Desktop\\Cumputer\\programing\\machine_learning\\AI-Learning-Journey\\venv\\Lib\\site-packages\\keras\\src\\layers\\core\\dense.py:93: UserWarning: Do not pass an `input_shape`/`input_dim` argument to a layer. When using Sequential models, prefer using an `Input(shape)` object as the first layer in the model instead.\n",
            "  super().__init__(activity_regularizer=activity_regularizer, **kwargs)\n",
            "c:\\Users\\Abolfazl\\Desktop\\Cumputer\\programing\\machine_learning\\AI-Learning-Journey\\venv\\Lib\\site-packages\\keras\\src\\layers\\core\\dense.py:93: UserWarning: Do not pass an `input_shape`/`input_dim` argument to a layer. When using Sequential models, prefer using an `Input(shape)` object as the first layer in the model instead.\n",
            "  super().__init__(activity_regularizer=activity_regularizer, **kwargs)\n",
            "c:\\Users\\Abolfazl\\Desktop\\Cumputer\\programing\\machine_learning\\AI-Learning-Journey\\venv\\Lib\\site-packages\\keras\\src\\layers\\core\\dense.py:93: UserWarning: Do not pass an `input_shape`/`input_dim` argument to a layer. When using Sequential models, prefer using an `Input(shape)` object as the first layer in the model instead.\n",
            "  super().__init__(activity_regularizer=activity_regularizer, **kwargs)\n",
            "c:\\Users\\Abolfazl\\Desktop\\Cumputer\\programing\\machine_learning\\AI-Learning-Journey\\venv\\Lib\\site-packages\\keras\\src\\layers\\core\\dense.py:93: UserWarning: Do not pass an `input_shape`/`input_dim` argument to a layer. When using Sequential models, prefer using an `Input(shape)` object as the first layer in the model instead.\n",
            "  super().__init__(activity_regularizer=activity_regularizer, **kwargs)\n",
            "c:\\Users\\Abolfazl\\Desktop\\Cumputer\\programing\\machine_learning\\AI-Learning-Journey\\venv\\Lib\\site-packages\\keras\\src\\layers\\core\\dense.py:93: UserWarning: Do not pass an `input_shape`/`input_dim` argument to a layer. When using Sequential models, prefer using an `Input(shape)` object as the first layer in the model instead.\n",
            "  super().__init__(activity_regularizer=activity_regularizer, **kwargs)\n",
            "c:\\Users\\Abolfazl\\Desktop\\Cumputer\\programing\\machine_learning\\AI-Learning-Journey\\venv\\Lib\\site-packages\\keras\\src\\layers\\core\\dense.py:93: UserWarning: Do not pass an `input_shape`/`input_dim` argument to a layer. When using Sequential models, prefer using an `Input(shape)` object as the first layer in the model instead.\n",
            "  super().__init__(activity_regularizer=activity_regularizer, **kwargs)\n"
          ]
        }
      ],
      "source": [
        "# ساخت مدل با سایکراس\n",
        "\n",
        "# KerasClassifier -> Make the keras model useable with scikit | مدل کراس رو قابل استفاده با سایکیت لرن میکنه\n",
        "model = KerasClassifier(model=create_model, loss='binary_crossentropy', epochs=10, batch_size=32, verbose=0)\n",
        "\n",
        "params = {\n",
        "    \"model__hidden_units\": [16, 32, 64],\n",
        "    \"model__optimizer\": [\"adam\", \"rmsprop\"]\n",
        "}\n",
        "\n",
        "grid = GridSearchCV(estimator=model, param_grid=params, cv=3) # cv=3 -> Cross validation with 3 folds | کراس ولیدیشن با 3 فولد\n",
        "\n",
        "# Fit the model | آموزش مدل روی داده های ترِین\n",
        "grid_result = grid.fit(X_train, y_train)"
      ]
    },
    {
      "cell_type": "code",
      "execution_count": 22,
      "metadata": {
        "id": "C-AuzrGgEChZ"
      },
      "outputs": [
        {
          "name": "stdout",
          "output_type": "stream",
          "text": [
            "{'model__hidden_units': 64, 'model__optimizer': 'adam'}\n"
          ]
        },
        {
          "data": {
            "text/plain": [
              "'Score : 0.878718331409047'"
            ]
          },
          "execution_count": 22,
          "metadata": {},
          "output_type": "execute_result"
        }
      ],
      "source": [
        "# Display the best parameters | دیدن بهترین پارامتر ها با اِسکورش\n",
        "\n",
        "grid_best_params = grid_result.best_params_\n",
        "grid_best_score = grid_result.best_score_\n",
        "\n",
        "print(grid_best_params)\n",
        "f'Score : {grid_best_score}'"
      ]
    },
    {
      "cell_type": "markdown",
      "metadata": {
        "id": "7qPo-qcZHF4R"
      },
      "source": [
        "**Random search**"
      ]
    },
    {
      "cell_type": "code",
      "execution_count": 23,
      "metadata": {
        "id": "PDSvfIQcHJdg"
      },
      "outputs": [
        {
          "name": "stderr",
          "output_type": "stream",
          "text": [
            "c:\\Users\\Abolfazl\\Desktop\\Cumputer\\programing\\machine_learning\\AI-Learning-Journey\\venv\\Lib\\site-packages\\keras\\src\\layers\\core\\dense.py:93: UserWarning: Do not pass an `input_shape`/`input_dim` argument to a layer. When using Sequential models, prefer using an `Input(shape)` object as the first layer in the model instead.\n",
            "  super().__init__(activity_regularizer=activity_regularizer, **kwargs)\n",
            "c:\\Users\\Abolfazl\\Desktop\\Cumputer\\programing\\machine_learning\\AI-Learning-Journey\\venv\\Lib\\site-packages\\keras\\src\\layers\\core\\dense.py:93: UserWarning: Do not pass an `input_shape`/`input_dim` argument to a layer. When using Sequential models, prefer using an `Input(shape)` object as the first layer in the model instead.\n",
            "  super().__init__(activity_regularizer=activity_regularizer, **kwargs)\n",
            "c:\\Users\\Abolfazl\\Desktop\\Cumputer\\programing\\machine_learning\\AI-Learning-Journey\\venv\\Lib\\site-packages\\keras\\src\\layers\\core\\dense.py:93: UserWarning: Do not pass an `input_shape`/`input_dim` argument to a layer. When using Sequential models, prefer using an `Input(shape)` object as the first layer in the model instead.\n",
            "  super().__init__(activity_regularizer=activity_regularizer, **kwargs)\n",
            "c:\\Users\\Abolfazl\\Desktop\\Cumputer\\programing\\machine_learning\\AI-Learning-Journey\\venv\\Lib\\site-packages\\keras\\src\\layers\\core\\dense.py:93: UserWarning: Do not pass an `input_shape`/`input_dim` argument to a layer. When using Sequential models, prefer using an `Input(shape)` object as the first layer in the model instead.\n",
            "  super().__init__(activity_regularizer=activity_regularizer, **kwargs)\n",
            "c:\\Users\\Abolfazl\\Desktop\\Cumputer\\programing\\machine_learning\\AI-Learning-Journey\\venv\\Lib\\site-packages\\keras\\src\\layers\\core\\dense.py:93: UserWarning: Do not pass an `input_shape`/`input_dim` argument to a layer. When using Sequential models, prefer using an `Input(shape)` object as the first layer in the model instead.\n",
            "  super().__init__(activity_regularizer=activity_regularizer, **kwargs)\n",
            "c:\\Users\\Abolfazl\\Desktop\\Cumputer\\programing\\machine_learning\\AI-Learning-Journey\\venv\\Lib\\site-packages\\keras\\src\\layers\\core\\dense.py:93: UserWarning: Do not pass an `input_shape`/`input_dim` argument to a layer. When using Sequential models, prefer using an `Input(shape)` object as the first layer in the model instead.\n",
            "  super().__init__(activity_regularizer=activity_regularizer, **kwargs)\n",
            "c:\\Users\\Abolfazl\\Desktop\\Cumputer\\programing\\machine_learning\\AI-Learning-Journey\\venv\\Lib\\site-packages\\keras\\src\\layers\\core\\dense.py:93: UserWarning: Do not pass an `input_shape`/`input_dim` argument to a layer. When using Sequential models, prefer using an `Input(shape)` object as the first layer in the model instead.\n",
            "  super().__init__(activity_regularizer=activity_regularizer, **kwargs)\n",
            "c:\\Users\\Abolfazl\\Desktop\\Cumputer\\programing\\machine_learning\\AI-Learning-Journey\\venv\\Lib\\site-packages\\keras\\src\\layers\\core\\dense.py:93: UserWarning: Do not pass an `input_shape`/`input_dim` argument to a layer. When using Sequential models, prefer using an `Input(shape)` object as the first layer in the model instead.\n",
            "  super().__init__(activity_regularizer=activity_regularizer, **kwargs)\n",
            "c:\\Users\\Abolfazl\\Desktop\\Cumputer\\programing\\machine_learning\\AI-Learning-Journey\\venv\\Lib\\site-packages\\keras\\src\\layers\\core\\dense.py:93: UserWarning: Do not pass an `input_shape`/`input_dim` argument to a layer. When using Sequential models, prefer using an `Input(shape)` object as the first layer in the model instead.\n",
            "  super().__init__(activity_regularizer=activity_regularizer, **kwargs)\n",
            "c:\\Users\\Abolfazl\\Desktop\\Cumputer\\programing\\machine_learning\\AI-Learning-Journey\\venv\\Lib\\site-packages\\keras\\src\\layers\\core\\dense.py:93: UserWarning: Do not pass an `input_shape`/`input_dim` argument to a layer. When using Sequential models, prefer using an `Input(shape)` object as the first layer in the model instead.\n",
            "  super().__init__(activity_regularizer=activity_regularizer, **kwargs)\n",
            "c:\\Users\\Abolfazl\\Desktop\\Cumputer\\programing\\machine_learning\\AI-Learning-Journey\\venv\\Lib\\site-packages\\keras\\src\\layers\\core\\dense.py:93: UserWarning: Do not pass an `input_shape`/`input_dim` argument to a layer. When using Sequential models, prefer using an `Input(shape)` object as the first layer in the model instead.\n",
            "  super().__init__(activity_regularizer=activity_regularizer, **kwargs)\n",
            "c:\\Users\\Abolfazl\\Desktop\\Cumputer\\programing\\machine_learning\\AI-Learning-Journey\\venv\\Lib\\site-packages\\keras\\src\\layers\\core\\dense.py:93: UserWarning: Do not pass an `input_shape`/`input_dim` argument to a layer. When using Sequential models, prefer using an `Input(shape)` object as the first layer in the model instead.\n",
            "  super().__init__(activity_regularizer=activity_regularizer, **kwargs)\n",
            "c:\\Users\\Abolfazl\\Desktop\\Cumputer\\programing\\machine_learning\\AI-Learning-Journey\\venv\\Lib\\site-packages\\keras\\src\\layers\\core\\dense.py:93: UserWarning: Do not pass an `input_shape`/`input_dim` argument to a layer. When using Sequential models, prefer using an `Input(shape)` object as the first layer in the model instead.\n",
            "  super().__init__(activity_regularizer=activity_regularizer, **kwargs)\n",
            "c:\\Users\\Abolfazl\\Desktop\\Cumputer\\programing\\machine_learning\\AI-Learning-Journey\\venv\\Lib\\site-packages\\keras\\src\\layers\\core\\dense.py:93: UserWarning: Do not pass an `input_shape`/`input_dim` argument to a layer. When using Sequential models, prefer using an `Input(shape)` object as the first layer in the model instead.\n",
            "  super().__init__(activity_regularizer=activity_regularizer, **kwargs)\n",
            "c:\\Users\\Abolfazl\\Desktop\\Cumputer\\programing\\machine_learning\\AI-Learning-Journey\\venv\\Lib\\site-packages\\keras\\src\\layers\\core\\dense.py:93: UserWarning: Do not pass an `input_shape`/`input_dim` argument to a layer. When using Sequential models, prefer using an `Input(shape)` object as the first layer in the model instead.\n",
            "  super().__init__(activity_regularizer=activity_regularizer, **kwargs)\n",
            "c:\\Users\\Abolfazl\\Desktop\\Cumputer\\programing\\machine_learning\\AI-Learning-Journey\\venv\\Lib\\site-packages\\keras\\src\\layers\\core\\dense.py:93: UserWarning: Do not pass an `input_shape`/`input_dim` argument to a layer. When using Sequential models, prefer using an `Input(shape)` object as the first layer in the model instead.\n",
            "  super().__init__(activity_regularizer=activity_regularizer, **kwargs)\n"
          ]
        },
        {
          "name": "stdout",
          "output_type": "stream",
          "text": [
            "{'model__optimizer': 'adam', 'model__hidden_units': 64}\n"
          ]
        },
        {
          "data": {
            "text/plain": [
              "'Score : 0.863708897712446'"
            ]
          },
          "execution_count": 23,
          "metadata": {},
          "output_type": "execute_result"
        }
      ],
      "source": [
        "# n_iter=5 -> Check 5 of the six available parameters | تعداد بررسی های شانسی که اینجا از 6 حالت ممکن، ما میگیم که 5 تاشو تست کنه\n",
        "random = RandomizedSearchCV(estimator=model, param_distributions=params, cv=3, n_iter=5)\n",
        "random_result = random.fit(X_train, y_train)\n",
        "\n",
        "random_best_params = random_result.best_params_\n",
        "random_best_score = random_result.best_score_\n",
        "\n",
        "print(random_best_params)\n",
        "f'Score : {random_best_score}'"
      ]
    }
  ],
  "metadata": {
    "accelerator": "GPU",
    "colab": {
      "gpuType": "T4",
      "provenance": []
    },
    "kernelspec": {
      "display_name": "venv",
      "language": "python",
      "name": "python3"
    },
    "language_info": {
      "codemirror_mode": {
        "name": "ipython",
        "version": 3
      },
      "file_extension": ".py",
      "mimetype": "text/x-python",
      "name": "python",
      "nbconvert_exporter": "python",
      "pygments_lexer": "ipython3",
      "version": "3.12.6"
    }
  },
  "nbformat": 4,
  "nbformat_minor": 0
}
