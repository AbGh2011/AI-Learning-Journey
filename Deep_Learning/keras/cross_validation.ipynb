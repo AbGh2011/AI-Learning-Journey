{
  "cells": [
    {
      "cell_type": "code",
      "execution_count": 2,
      "metadata": {
        "id": "A-1kn_1YHFQi"
      },
      "outputs": [],
      "source": [
        "from sklearn.datasets import make_classification\n",
        "import tensorflow as tf\n",
        "from tensorflow import keras\n",
        "from sklearn.model_selection import StratifiedKFold\n",
        "from sklearn.metrics import accuracy_score\n",
        "import numpy as np"
      ]
    },
    {
      "cell_type": "markdown",
      "metadata": {
        "id": "AnsMm6t4IVcg"
      },
      "source": [
        "**dataset creation**"
      ]
    },
    {
      "cell_type": "code",
      "execution_count": null,
      "metadata": {
        "colab": {
          "base_uri": "https://localhost:8080/"
        },
        "id": "MPRadgZnIUZY",
        "outputId": "17ca1a28-6f2d-443c-8ddc-33718a63fae1"
      },
      "outputs": [
        {
          "data": {
            "text/plain": [
              "(array([ 1.84575176, -1.62371867,  2.0607981 , -2.18937014,  0.92698165,\n",
              "         0.24780145, -0.72100289, -2.20669145,  2.75275518,  0.63061379]),\n",
              " np.int64(1))"
            ]
          },
          "execution_count": 3,
          "metadata": {},
          "output_type": "execute_result"
        }
      ],
      "source": [
        "# Cross validation | اعتبارسنجی متقابل\n",
        "\n",
        "# داده های ترین رو به چند فولد تقسیم میکنیم و در هر بار آموزش مدل، یه بخش به عنوان تست و بقیه بخش ها به عنوان ترین در نظر گرفته میشه\n",
        "# برای اعتبارسنجی دقیق تر\n",
        "\n",
        "# برای شروع یک دیتاست ساختگی برای باینری کلاسیفیکیشن میسازیم\n",
        "X, y = make_classification(n_samples=1000, n_features=10, n_informative=8, n_redundant=2, random_state=0)\n",
        "\n",
        "X[500], y[500]"
      ]
    },
    {
      "cell_type": "markdown",
      "metadata": {
        "id": "I4TNdxdfNwud"
      },
      "source": [
        "**model definition**"
      ]
    },
    {
      "cell_type": "code",
      "execution_count": null,
      "metadata": {
        "id": "4DpB1sgPM1Rt"
      },
      "outputs": [],
      "source": [
        "# Define the model in a function | تعریف مدل تو تابع برای راحتی در آینده\n",
        "\n",
        "def create_model():\n",
        "  model = keras.Sequential()\n",
        "  model.add(keras.layers.Dense(units=16, activation='relu'))\n",
        "  model.add(keras.layers.Dense(units=1, activation='sigmoid')) # از سیگموید استفاده میکنیم تا خروجی بین 0 و 1 باشه\n",
        "\n",
        "  model.compile(optimizer=tf.optimizers.Adam(), loss=tf.losses.binary_crossentropy, metrics=['accuracy'])\n",
        "\n",
        "  return model"
      ]
    },
    {
      "cell_type": "markdown",
      "metadata": {
        "id": "18h7xUA3Q2PJ"
      },
      "source": [
        "**cross validation**"
      ]
    },
    {
      "cell_type": "code",
      "execution_count": null,
      "metadata": {
        "colab": {
          "base_uri": "https://localhost:8080/"
        },
        "collapsed": true,
        "id": "yEdPn0MjQ5wk",
        "outputId": "48ac2535-919f-452c-c4b0-750e92eb03a5"
      },
      "outputs": [
        {
          "name": "stdout",
          "output_type": "stream",
          "text": [
            "Epoch 1/20\n",
            "13/13 - 2s - 175ms/step - accuracy: 0.5387 - loss: 0.8691\n",
            "Epoch 2/20\n",
            "13/13 - 0s - 29ms/step - accuracy: 0.5950 - loss: 0.7348\n",
            "Epoch 3/20\n",
            "13/13 - 0s - 13ms/step - accuracy: 0.6587 - loss: 0.6298\n",
            "Epoch 4/20\n",
            "13/13 - 0s - 6ms/step - accuracy: 0.7088 - loss: 0.5512\n",
            "Epoch 5/20\n",
            "13/13 - 0s - 6ms/step - accuracy: 0.7650 - loss: 0.4962\n",
            "Epoch 6/20\n",
            "13/13 - 0s - 9ms/step - accuracy: 0.8062 - loss: 0.4517\n",
            "Epoch 7/20\n",
            "13/13 - 0s - 7ms/step - accuracy: 0.8363 - loss: 0.4177\n",
            "Epoch 8/20\n",
            "13/13 - 0s - 8ms/step - accuracy: 0.8512 - loss: 0.3896\n",
            "Epoch 9/20\n",
            "13/13 - 0s - 29ms/step - accuracy: 0.8662 - loss: 0.3663\n",
            "Epoch 10/20\n",
            "13/13 - 0s - 12ms/step - accuracy: 0.8825 - loss: 0.3465\n",
            "Epoch 11/20\n",
            "13/13 - 0s - 9ms/step - accuracy: 0.8875 - loss: 0.3294\n",
            "Epoch 12/20\n",
            "13/13 - 0s - 8ms/step - accuracy: 0.8938 - loss: 0.3146\n",
            "Epoch 13/20\n",
            "13/13 - 0s - 9ms/step - accuracy: 0.9000 - loss: 0.3013\n",
            "Epoch 14/20\n",
            "13/13 - 0s - 7ms/step - accuracy: 0.9087 - loss: 0.2901\n",
            "Epoch 15/20\n",
            "13/13 - 0s - 20ms/step - accuracy: 0.9112 - loss: 0.2796\n",
            "Epoch 16/20\n",
            "13/13 - 0s - 22ms/step - accuracy: 0.9162 - loss: 0.2704\n",
            "Epoch 17/20\n",
            "13/13 - 0s - 22ms/step - accuracy: 0.9187 - loss: 0.2620\n",
            "Epoch 18/20\n",
            "13/13 - 0s - 6ms/step - accuracy: 0.9200 - loss: 0.2547\n",
            "Epoch 19/20\n",
            "13/13 - 0s - 7ms/step - accuracy: 0.9250 - loss: 0.2478\n",
            "Epoch 20/20\n",
            "13/13 - 0s - 7ms/step - accuracy: 0.9262 - loss: 0.2413\n",
            "\u001b[1m7/7\u001b[0m \u001b[32m━━━━━━━━━━━━━━━━━━━━\u001b[0m\u001b[37m\u001b[0m \u001b[1m0s\u001b[0m 16ms/step\n",
            "Epoch 1/20\n",
            "13/13 - 2s - 128ms/step - accuracy: 0.4875 - loss: 0.9000\n",
            "Epoch 2/20\n",
            "13/13 - 0s - 7ms/step - accuracy: 0.5450 - loss: 0.7871\n",
            "Epoch 3/20\n",
            "13/13 - 0s - 7ms/step - accuracy: 0.6187 - loss: 0.6895\n",
            "Epoch 4/20\n",
            "13/13 - 0s - 7ms/step - accuracy: 0.6750 - loss: 0.6110\n",
            "Epoch 5/20\n",
            "13/13 - 0s - 7ms/step - accuracy: 0.7312 - loss: 0.5457\n",
            "Epoch 6/20\n",
            "13/13 - 0s - 7ms/step - accuracy: 0.7713 - loss: 0.4959\n",
            "Epoch 7/20\n",
            "13/13 - 0s - 7ms/step - accuracy: 0.8100 - loss: 0.4547\n",
            "Epoch 8/20\n",
            "13/13 - 0s - 7ms/step - accuracy: 0.8413 - loss: 0.4202\n",
            "Epoch 9/20\n",
            "13/13 - 0s - 7ms/step - accuracy: 0.8500 - loss: 0.3918\n",
            "Epoch 10/20\n",
            "13/13 - 0s - 7ms/step - accuracy: 0.8712 - loss: 0.3664\n",
            "Epoch 11/20\n",
            "13/13 - 0s - 7ms/step - accuracy: 0.8825 - loss: 0.3446\n",
            "Epoch 12/20\n",
            "13/13 - 0s - 8ms/step - accuracy: 0.8938 - loss: 0.3254\n",
            "Epoch 13/20\n",
            "13/13 - 0s - 7ms/step - accuracy: 0.9013 - loss: 0.3088\n",
            "Epoch 14/20\n",
            "13/13 - 0s - 13ms/step - accuracy: 0.9038 - loss: 0.2942\n",
            "Epoch 15/20\n",
            "13/13 - 0s - 18ms/step - accuracy: 0.9075 - loss: 0.2812\n",
            "Epoch 16/20\n",
            "13/13 - 0s - 6ms/step - accuracy: 0.9150 - loss: 0.2695\n",
            "Epoch 17/20\n",
            "13/13 - 0s - 7ms/step - accuracy: 0.9187 - loss: 0.2596\n",
            "Epoch 18/20\n",
            "13/13 - 0s - 7ms/step - accuracy: 0.9237 - loss: 0.2503\n",
            "Epoch 19/20\n",
            "13/13 - 0s - 6ms/step - accuracy: 0.9262 - loss: 0.2423\n",
            "Epoch 20/20\n",
            "13/13 - 0s - 14ms/step - accuracy: 0.9287 - loss: 0.2352\n",
            "\u001b[1m7/7\u001b[0m \u001b[32m━━━━━━━━━━━━━━━━━━━━\u001b[0m\u001b[37m\u001b[0m \u001b[1m0s\u001b[0m 15ms/step\n",
            "Epoch 1/20\n",
            "13/13 - 2s - 159ms/step - accuracy: 0.5088 - loss: 1.5154\n",
            "Epoch 2/20\n",
            "13/13 - 0s - 8ms/step - accuracy: 0.5412 - loss: 1.3189\n",
            "Epoch 3/20\n",
            "13/13 - 0s - 8ms/step - accuracy: 0.5675 - loss: 1.1495\n",
            "Epoch 4/20\n",
            "13/13 - 0s - 7ms/step - accuracy: 0.5975 - loss: 0.9979\n",
            "Epoch 5/20\n",
            "13/13 - 0s - 9ms/step - accuracy: 0.6338 - loss: 0.8754\n",
            "Epoch 6/20\n",
            "13/13 - 0s - 8ms/step - accuracy: 0.6600 - loss: 0.7683\n",
            "Epoch 7/20\n",
            "13/13 - 0s - 9ms/step - accuracy: 0.6975 - loss: 0.6791\n",
            "Epoch 8/20\n",
            "13/13 - 0s - 8ms/step - accuracy: 0.7312 - loss: 0.6013\n",
            "Epoch 9/20\n",
            "13/13 - 0s - 7ms/step - accuracy: 0.7538 - loss: 0.5381\n",
            "Epoch 10/20\n",
            "13/13 - 0s - 13ms/step - accuracy: 0.7812 - loss: 0.4864\n",
            "Epoch 11/20\n",
            "13/13 - 0s - 10ms/step - accuracy: 0.7987 - loss: 0.4445\n",
            "Epoch 12/20\n",
            "13/13 - 0s - 7ms/step - accuracy: 0.8225 - loss: 0.4107\n",
            "Epoch 13/20\n",
            "13/13 - 0s - 7ms/step - accuracy: 0.8400 - loss: 0.3823\n",
            "Epoch 14/20\n",
            "13/13 - 0s - 9ms/step - accuracy: 0.8475 - loss: 0.3598\n",
            "Epoch 15/20\n",
            "13/13 - 0s - 8ms/step - accuracy: 0.8550 - loss: 0.3399\n",
            "Epoch 16/20\n",
            "13/13 - 0s - 9ms/step - accuracy: 0.8650 - loss: 0.3240\n",
            "Epoch 17/20\n",
            "13/13 - 0s - 9ms/step - accuracy: 0.8725 - loss: 0.3107\n",
            "Epoch 18/20\n",
            "13/13 - 0s - 7ms/step - accuracy: 0.8838 - loss: 0.2992\n",
            "Epoch 19/20\n",
            "13/13 - 0s - 7ms/step - accuracy: 0.8925 - loss: 0.2891\n",
            "Epoch 20/20\n",
            "13/13 - 0s - 11ms/step - accuracy: 0.8988 - loss: 0.2807\n",
            "WARNING:tensorflow:5 out of the last 15 calls to <function TensorFlowTrainer.make_predict_function.<locals>.one_step_on_data_distributed at 0x000001F96DB6F880> triggered tf.function retracing. Tracing is expensive and the excessive number of tracings could be due to (1) creating @tf.function repeatedly in a loop, (2) passing tensors with different shapes, (3) passing Python objects instead of tensors. For (1), please define your @tf.function outside of the loop. For (2), @tf.function has reduce_retracing=True option that can avoid unnecessary retracing. For (3), please refer to https://www.tensorflow.org/guide/function#controlling_retracing and https://www.tensorflow.org/api_docs/python/tf/function for  more details.\n",
            "\u001b[1m7/7\u001b[0m \u001b[32m━━━━━━━━━━━━━━━━━━━━\u001b[0m\u001b[37m\u001b[0m \u001b[1m0s\u001b[0m 16ms/step\n",
            "Epoch 1/20\n",
            "13/13 - 1s - 113ms/step - accuracy: 0.5188 - loss: 0.8473\n",
            "Epoch 2/20\n",
            "13/13 - 0s - 8ms/step - accuracy: 0.5913 - loss: 0.7194\n",
            "Epoch 3/20\n",
            "13/13 - 0s - 7ms/step - accuracy: 0.6712 - loss: 0.6255\n",
            "Epoch 4/20\n",
            "13/13 - 0s - 13ms/step - accuracy: 0.7275 - loss: 0.5555\n",
            "Epoch 5/20\n",
            "13/13 - 0s - 8ms/step - accuracy: 0.7800 - loss: 0.5032\n",
            "Epoch 6/20\n",
            "13/13 - 0s - 7ms/step - accuracy: 0.8037 - loss: 0.4611\n",
            "Epoch 7/20\n",
            "13/13 - 0s - 8ms/step - accuracy: 0.8213 - loss: 0.4278\n",
            "Epoch 8/20\n",
            "13/13 - 0s - 7ms/step - accuracy: 0.8487 - loss: 0.3989\n",
            "Epoch 9/20\n",
            "13/13 - 0s - 15ms/step - accuracy: 0.8600 - loss: 0.3755\n",
            "Epoch 10/20\n",
            "13/13 - 0s - 7ms/step - accuracy: 0.8675 - loss: 0.3561\n",
            "Epoch 11/20\n",
            "13/13 - 0s - 8ms/step - accuracy: 0.8788 - loss: 0.3385\n",
            "Epoch 12/20\n",
            "13/13 - 0s - 7ms/step - accuracy: 0.8788 - loss: 0.3231\n",
            "Epoch 13/20\n",
            "13/13 - 0s - 13ms/step - accuracy: 0.8838 - loss: 0.3095\n",
            "Epoch 14/20\n",
            "13/13 - 0s - 7ms/step - accuracy: 0.8888 - loss: 0.2976\n",
            "Epoch 15/20\n",
            "13/13 - 0s - 7ms/step - accuracy: 0.8950 - loss: 0.2873\n",
            "Epoch 16/20\n",
            "13/13 - 0s - 8ms/step - accuracy: 0.9000 - loss: 0.2775\n",
            "Epoch 17/20\n",
            "13/13 - 0s - 7ms/step - accuracy: 0.9013 - loss: 0.2688\n",
            "Epoch 18/20\n",
            "13/13 - 0s - 12ms/step - accuracy: 0.9025 - loss: 0.2610\n",
            "Epoch 19/20\n",
            "13/13 - 0s - 9ms/step - accuracy: 0.9050 - loss: 0.2542\n",
            "Epoch 20/20\n",
            "13/13 - 0s - 12ms/step - accuracy: 0.9050 - loss: 0.2475\n",
            "WARNING:tensorflow:5 out of the last 15 calls to <function TensorFlowTrainer.make_predict_function.<locals>.one_step_on_data_distributed at 0x000001F9713D5760> triggered tf.function retracing. Tracing is expensive and the excessive number of tracings could be due to (1) creating @tf.function repeatedly in a loop, (2) passing tensors with different shapes, (3) passing Python objects instead of tensors. For (1), please define your @tf.function outside of the loop. For (2), @tf.function has reduce_retracing=True option that can avoid unnecessary retracing. For (3), please refer to https://www.tensorflow.org/guide/function#controlling_retracing and https://www.tensorflow.org/api_docs/python/tf/function for  more details.\n",
            "\u001b[1m7/7\u001b[0m \u001b[32m━━━━━━━━━━━━━━━━━━━━\u001b[0m\u001b[37m\u001b[0m \u001b[1m0s\u001b[0m 14ms/step\n",
            "Epoch 1/20\n",
            "13/13 - 1s - 112ms/step - accuracy: 0.6375 - loss: 0.7456\n",
            "Epoch 2/20\n",
            "13/13 - 0s - 12ms/step - accuracy: 0.7088 - loss: 0.6439\n",
            "Epoch 3/20\n",
            "13/13 - 0s - 7ms/step - accuracy: 0.7663 - loss: 0.5640\n",
            "Epoch 4/20\n",
            "13/13 - 0s - 8ms/step - accuracy: 0.8125 - loss: 0.4989\n",
            "Epoch 5/20\n",
            "13/13 - 0s - 10ms/step - accuracy: 0.8413 - loss: 0.4496\n",
            "Epoch 6/20\n",
            "13/13 - 0s - 9ms/step - accuracy: 0.8500 - loss: 0.4091\n",
            "Epoch 7/20\n",
            "13/13 - 0s - 8ms/step - accuracy: 0.8675 - loss: 0.3781\n",
            "Epoch 8/20\n",
            "13/13 - 0s - 14ms/step - accuracy: 0.8725 - loss: 0.3520\n",
            "Epoch 9/20\n",
            "13/13 - 0s - 7ms/step - accuracy: 0.8788 - loss: 0.3315\n",
            "Epoch 10/20\n",
            "13/13 - 0s - 7ms/step - accuracy: 0.8875 - loss: 0.3139\n",
            "Epoch 11/20\n",
            "13/13 - 0s - 9ms/step - accuracy: 0.8913 - loss: 0.2998\n",
            "Epoch 12/20\n",
            "13/13 - 0s - 11ms/step - accuracy: 0.8963 - loss: 0.2869\n",
            "Epoch 13/20\n",
            "13/13 - 0s - 7ms/step - accuracy: 0.9025 - loss: 0.2770\n",
            "Epoch 14/20\n",
            "13/13 - 0s - 7ms/step - accuracy: 0.9137 - loss: 0.2680\n",
            "Epoch 15/20\n",
            "13/13 - 0s - 8ms/step - accuracy: 0.9175 - loss: 0.2598\n",
            "Epoch 16/20\n",
            "13/13 - 0s - 9ms/step - accuracy: 0.9187 - loss: 0.2528\n",
            "Epoch 17/20\n",
            "13/13 - 0s - 9ms/step - accuracy: 0.9187 - loss: 0.2470\n",
            "Epoch 18/20\n",
            "13/13 - 0s - 12ms/step - accuracy: 0.9225 - loss: 0.2413\n",
            "Epoch 19/20\n",
            "13/13 - 0s - 7ms/step - accuracy: 0.9250 - loss: 0.2363\n",
            "Epoch 20/20\n",
            "13/13 - 0s - 8ms/step - accuracy: 0.9250 - loss: 0.2317\n",
            "\u001b[1m7/7\u001b[0m \u001b[32m━━━━━━━━━━━━━━━━━━━━\u001b[0m\u001b[37m\u001b[0m \u001b[1m0s\u001b[0m 13ms/step\n"
          ]
        }
      ],
      "source": [
        "# کراس ولیدیشن\n",
        "\n",
        "# Spliting data into 5 folds | تقسیم داده ها به 5 قسمت\n",
        "n_split = 5\n",
        "\n",
        "# تعریف شئ کراس ولیدیشن\n",
        "kf = StratifiedKFold(n_splits=n_split, shuffle=True) # shuffle -> داده‌ها رو قاطی می‌کنه تا تقسیمات تصادفی‌تر باشه\n",
        "\n",
        "# یه لیست خالی تعریف می‌کنیم برای ذخیره‌ی دقت هر دور از آموزش و تست\n",
        "acc_total = []\n",
        "\n",
        "# جدا کردن داده های ترِین و ولیدیشن\n",
        "for train_index, validation_index in kf.split(X, y):\n",
        "  X_train = X[train_index]\n",
        "  y_train = y[train_index]\n",
        "  X_validation = X[validation_index]\n",
        "  y_validation = y[validation_index]\n",
        "\n",
        "  model = create_model()\n",
        "\n",
        "  model.fit(X_train, y_train, epochs=20, batch_size=64, verbose=2)\n",
        "\n",
        "  y_pred = model.predict(X_validation)\n",
        "  # حالا مدل بعد از پریدیکت کردن یک عددی بین 0 و 1 میده\n",
        "  # این عدد اگه بالای 0.5 باشه یعنی نمونه جزو کلاس 1 هستش و درغیر این صورت جزو کلاس 0 هستش\n",
        "  # True : 1\n",
        "  # False : 0\n",
        "  y_pred = (y_pred > 0.5).astype('int32')\n",
        "\n",
        "  acc = accuracy_score(y_true=y_validation, y_pred=y_pred)\n",
        "  acc_total.append(acc)"
      ]
    },
    {
      "cell_type": "code",
      "execution_count": null,
      "metadata": {
        "colab": {
          "base_uri": "https://localhost:8080/"
        },
        "id": "uFLTv2-Hl8Xr",
        "outputId": "4779b728-ec4a-49e6-e595-bdb4dab6fe70"
      },
      "outputs": [
        {
          "data": {
            "text/plain": [
              "[0.895, 0.935, 0.845, 0.915, 0.955]"
            ]
          },
          "execution_count": 6,
          "metadata": {},
          "output_type": "execute_result"
        }
      ],
      "source": [
        "# Display all the accuracies | دیدن اکیورسی هر مدل، توی 5 هر 5 بار\n",
        "acc_total"
      ]
    },
    {
      "cell_type": "code",
      "execution_count": null,
      "metadata": {
        "colab": {
          "base_uri": "https://localhost:8080/"
        },
        "id": "0K3XZs7GmPhO",
        "outputId": "278fb801-8b9f-4788-b71a-3b72d776b59c"
      },
      "outputs": [
        {
          "data": {
            "text/plain": [
              "np.float64(0.909)"
            ]
          },
          "execution_count": 7,
          "metadata": {},
          "output_type": "execute_result"
        }
      ],
      "source": [
        "# Average | در آخر هم میریم که میانگین عملکرد مدل روی این دیتاست و با این پارامتر های مدل رو ببینیم\n",
        "np.mean(acc_total)"
      ]
    }
  ],
  "metadata": {
    "accelerator": "GPU",
    "colab": {
      "gpuType": "T4",
      "provenance": []
    },
    "kernelspec": {
      "display_name": "venv",
      "language": "python",
      "name": "python3"
    },
    "language_info": {
      "codemirror_mode": {
        "name": "ipython",
        "version": 3
      },
      "file_extension": ".py",
      "mimetype": "text/x-python",
      "name": "python",
      "nbconvert_exporter": "python",
      "pygments_lexer": "ipython3",
      "version": "3.12.6"
    }
  },
  "nbformat": 4,
  "nbformat_minor": 0
}
