{
  "cells": [
    {
      "cell_type": "code",
      "execution_count": 2,
      "metadata": {
        "id": "v-4KQxH5odjD"
      },
      "outputs": [],
      "source": [
        "import tensorflow as tf\n",
        "from tensorflow import keras\n",
        "import numpy as np\n",
        "import matplotlib.pyplot as plt\n",
        "from sklearn.model_selection import train_test_split"
      ]
    },
    {
      "cell_type": "markdown",
      "metadata": {
        "id": "NNibB0C0pLCr"
      },
      "source": [
        "**Data generation**"
      ]
    },
    {
      "cell_type": "code",
      "execution_count": null,
      "metadata": {
        "colab": {
          "base_uri": "https://localhost:8080/"
        },
        "id": "MQp9vC8VpN56",
        "outputId": "25884931-9be1-407b-de60-65102031cea4"
      },
      "outputs": [
        {
          "data": {
            "text/plain": [
              "(322,)"
            ]
          },
          "execution_count": 3,
          "metadata": {},
          "output_type": "execute_result"
        }
      ],
      "source": [
        "# همیشه ایپاک آخر کمترین تابع هزینه رو نداره و ممکنه ایپاک های قبلی بهتر عمل کرده باشن\n",
        "# Use recall to choose the best epoch instead of the last one | این مشکل رو با ریکال حل میکنیم\n",
        "\n",
        "x = np.arange(-80, 81, 0.5)\n",
        "y = x ** 2 + 5 * x + 3\n",
        "\n",
        "y.shape"
      ]
    },
    {
      "cell_type": "code",
      "execution_count": null,
      "metadata": {
        "colab": {
          "base_uri": "https://localhost:8080/"
        },
        "id": "XD3M1Vf4pQAk",
        "outputId": "e2b85187-1600-435e-b404-8df41e0f5ba0"
      },
      "outputs": [
        {
          "data": {
            "text/plain": [
              "((257,), (65,))"
            ]
          },
          "execution_count": 4,
          "metadata": {},
          "output_type": "execute_result"
        }
      ],
      "source": [
        "# Spliting train and test data | جدا کردن مقادیر ترین و تست\n",
        "\n",
        "x_train, x_test, y_train, y_test = train_test_split(x, y, test_size=0.2)\n",
        "\n",
        "x_train.shape, x_test.shape"
      ]
    },
    {
      "cell_type": "markdown",
      "metadata": {
        "id": "jOFa580JpUbU"
      },
      "source": [
        "**Model definition**"
      ]
    },
    {
      "cell_type": "code",
      "execution_count": null,
      "metadata": {
        "colab": {
          "base_uri": "https://localhost:8080/"
        },
        "id": "1D92Sv5RpR4M",
        "outputId": "94dd5e68-b8b8-426c-da5a-b6b446503b4a"
      },
      "outputs": [
        {
          "name": "stderr",
          "output_type": "stream",
          "text": [
            "c:\\Users\\Abolfazl\\Desktop\\Cumputer\\programing\\machine_learning\\AI-Learning-Journey\\venv\\Lib\\site-packages\\keras\\src\\layers\\core\\dense.py:93: UserWarning: Do not pass an `input_shape`/`input_dim` argument to a layer. When using Sequential models, prefer using an `Input(shape)` object as the first layer in the model instead.\n",
            "  super().__init__(activity_regularizer=activity_regularizer, **kwargs)\n"
          ]
        }
      ],
      "source": [
        "# Define the model | ساخت مدل\n",
        "\n",
        "model_2 = keras.Sequential()\n",
        "model_2.add(keras.layers.Dense(units=256, activation='relu', input_shape=[1]))\n",
        "model_2.add(keras.layers.Dense(units=256, activation='relu'))\n",
        "model_2.add(keras.layers.Dense(units=256, activation='relu'))\n",
        "model_2.add(keras.layers.Dense(units=256, activation='relu'))\n",
        "model_2.add(keras.layers.Dense(units=1))"
      ]
    },
    {
      "cell_type": "code",
      "execution_count": null,
      "metadata": {
        "id": "U7nDlh-FpZ3D"
      },
      "outputs": [],
      "source": [
        "# Compile the model | کامپایل کردن\n",
        "\n",
        "# learning_rate=0.0001 -> نشون میده که وزن‌ های مدل با گام‌های خیلی کوچیک تغییر کنن تا مدل پایدارتر یاد بگیره\n",
        "# اگر این مقدار خیلی بزرگ باشه مدل ممکنه نوسان کنه و خوب یاد نگیره و اگر خیلی کوچیک باشه، مدل ممکنه خیلی آهسته یاد بگیره\n",
        "optimizer = keras.optimizers.RMSprop(learning_rate=0.0001)\n",
        "\n",
        "# model_2.compile(optimizer=optimizer, loss=loss, metrics=metric)\n",
        "model_2.compile(optimizer=optimizer, loss='mean_squared_error', metrics=['accuracy'])"
      ]
    },
    {
      "cell_type": "code",
      "execution_count": null,
      "metadata": {
        "colab": {
          "base_uri": "https://localhost:8080/"
        },
        "collapsed": true,
        "id": "QT_sH0aNpdo8",
        "outputId": "71b5f6f0-ec51-437e-c84b-170e152b28e0"
      },
      "outputs": [
        {
          "name": "stdout",
          "output_type": "stream",
          "text": [
            "Epoch 1/1000\n",
            "\u001b[1m3/3\u001b[0m \u001b[32m━━━━━━━━━━━━━━━━━━━━\u001b[0m\u001b[37m\u001b[0m \u001b[1m3s\u001b[0m 331ms/step - loss: 8207433.0000 - mse: 8207433.0000 - val_loss: 8091699.5000 - val_mse: 8091699.5000\n",
            "Epoch 2/1000\n",
            "\u001b[1m3/3\u001b[0m \u001b[32m━━━━━━━━━━━━━━━━━━━━\u001b[0m\u001b[37m\u001b[0m \u001b[1m0s\u001b[0m 103ms/step - loss: 8445963.0000 - mse: 8445963.0000 - val_loss: 8082715.0000 - val_mse: 8082715.0000\n",
            "Epoch 3/1000\n",
            "\u001b[1m3/3\u001b[0m \u001b[32m━━━━━━━━━━━━━━━━━━━━\u001b[0m\u001b[37m\u001b[0m \u001b[1m0s\u001b[0m 57ms/step - loss: 8608373.0000 - mse: 8608373.0000 - val_loss: 8070872.0000 - val_mse: 8070872.0000\n",
            "Epoch 4/1000\n",
            "\u001b[1m3/3\u001b[0m \u001b[32m━━━━━━━━━━━━━━━━━━━━\u001b[0m\u001b[37m\u001b[0m \u001b[1m0s\u001b[0m 54ms/step - loss: 8298263.5000 - mse: 8298263.5000 - val_loss: 8058677.5000 - val_mse: 8058677.5000\n",
            "Epoch 5/1000\n",
            "\u001b[1m3/3\u001b[0m \u001b[32m━━━━━━━━━━━━━━━━━━━━\u001b[0m\u001b[37m\u001b[0m \u001b[1m0s\u001b[0m 103ms/step - loss: 8493470.0000 - mse: 8493470.0000 - val_loss: 8053904.0000 - val_mse: 8053904.0000\n",
            "Epoch 6/1000\n",
            "\u001b[1m3/3\u001b[0m \u001b[32m━━━━━━━━━━━━━━━━━━━━\u001b[0m\u001b[37m\u001b[0m \u001b[1m1s\u001b[0m 152ms/step - loss: 8251746.0000 - mse: 8251746.0000 - val_loss: 8045744.0000 - val_mse: 8045744.0000\n",
            "Epoch 7/1000\n",
            "\u001b[1m3/3\u001b[0m \u001b[32m━━━━━━━━━━━━━━━━━━━━\u001b[0m\u001b[37m\u001b[0m \u001b[1m0s\u001b[0m 107ms/step - loss: 8640480.0000 - mse: 8640480.0000 - val_loss: 8039816.5000 - val_mse: 8039816.5000\n",
            "Epoch 8/1000\n",
            "\u001b[1m3/3\u001b[0m \u001b[32m━━━━━━━━━━━━━━━━━━━━\u001b[0m\u001b[37m\u001b[0m \u001b[1m0s\u001b[0m 73ms/step - loss: 8678064.0000 - mse: 8678064.0000 - val_loss: 8031076.0000 - val_mse: 8031076.0000\n",
            "Epoch 9/1000\n",
            "\u001b[1m3/3\u001b[0m \u001b[32m━━━━━━━━━━━━━━━━━━━━\u001b[0m\u001b[37m\u001b[0m \u001b[1m0s\u001b[0m 78ms/step - loss: 8655271.0000 - mse: 8655271.0000 - val_loss: 8022946.0000 - val_mse: 8022946.0000\n",
            "Epoch 10/1000\n",
            "\u001b[1m3/3\u001b[0m \u001b[32m━━━━━━━━━━━━━━━━━━━━\u001b[0m\u001b[37m\u001b[0m \u001b[1m0s\u001b[0m 74ms/step - loss: 8559826.0000 - mse: 8559826.0000 - val_loss: 8007905.5000 - val_mse: 8007905.5000\n",
            "Epoch 11/1000\n",
            "\u001b[1m3/3\u001b[0m \u001b[32m━━━━━━━━━━━━━━━━━━━━\u001b[0m\u001b[37m\u001b[0m \u001b[1m0s\u001b[0m 118ms/step - loss: 8440226.0000 - mse: 8440226.0000 - val_loss: 8000189.0000 - val_mse: 8000189.0000\n",
            "Epoch 12/1000\n",
            "\u001b[1m3/3\u001b[0m \u001b[32m━━━━━━━━━━━━━━━━━━━━\u001b[0m\u001b[37m\u001b[0m \u001b[1m0s\u001b[0m 65ms/step - loss: 8198368.0000 - mse: 8198368.0000 - val_loss: 7985611.0000 - val_mse: 7985611.0000\n",
            "Epoch 13/1000\n",
            "\u001b[1m3/3\u001b[0m \u001b[32m━━━━━━━━━━━━━━━━━━━━\u001b[0m\u001b[37m\u001b[0m \u001b[1m0s\u001b[0m 71ms/step - loss: 8505690.0000 - mse: 8505690.0000 - val_loss: 7976850.5000 - val_mse: 7976850.5000\n",
            "Epoch 14/1000\n",
            "\u001b[1m3/3\u001b[0m \u001b[32m━━━━━━━━━━━━━━━━━━━━\u001b[0m\u001b[37m\u001b[0m \u001b[1m0s\u001b[0m 79ms/step - loss: 8221217.5000 - mse: 8221217.5000 - val_loss: 7960839.0000 - val_mse: 7960839.0000\n",
            "Epoch 15/1000\n",
            "\u001b[1m3/3\u001b[0m \u001b[32m━━━━━━━━━━━━━━━━━━━━\u001b[0m\u001b[37m\u001b[0m \u001b[1m0s\u001b[0m 127ms/step - loss: 8458333.0000 - mse: 8458333.0000 - val_loss: 7942140.0000 - val_mse: 7942140.0000\n",
            "Epoch 16/1000\n",
            "\u001b[1m3/3\u001b[0m \u001b[32m━━━━━━━━━━━━━━━━━━━━\u001b[0m\u001b[37m\u001b[0m \u001b[1m1s\u001b[0m 77ms/step - loss: 8344382.0000 - mse: 8344382.0000 - val_loss: 7932949.0000 - val_mse: 7932949.0000\n",
            "Epoch 17/1000\n",
            "\u001b[1m3/3\u001b[0m \u001b[32m━━━━━━━━━━━━━━━━━━━━\u001b[0m\u001b[37m\u001b[0m \u001b[1m0s\u001b[0m 92ms/step - loss: 8740249.0000 - mse: 8740249.0000 - val_loss: 7921816.5000 - val_mse: 7921816.5000\n",
            "Epoch 18/1000\n",
            "\u001b[1m3/3\u001b[0m \u001b[32m━━━━━━━━━━━━━━━━━━━━\u001b[0m\u001b[37m\u001b[0m \u001b[1m0s\u001b[0m 108ms/step - loss: 8216381.0000 - mse: 8216381.0000 - val_loss: 7901761.0000 - val_mse: 7901761.0000\n",
            "Epoch 19/1000\n",
            "\u001b[1m3/3\u001b[0m \u001b[32m━━━━━━━━━━━━━━━━━━━━\u001b[0m\u001b[37m\u001b[0m \u001b[1m0s\u001b[0m 113ms/step - loss: 8449884.0000 - mse: 8449884.0000 - val_loss: 7886599.5000 - val_mse: 7886599.5000\n",
            "Epoch 20/1000\n",
            "\u001b[1m3/3\u001b[0m \u001b[32m━━━━━━━━━━━━━━━━━━━━\u001b[0m\u001b[37m\u001b[0m \u001b[1m0s\u001b[0m 67ms/step - loss: 8139785.0000 - mse: 8139785.0000 - val_loss: 7863688.5000 - val_mse: 7863688.5000\n",
            "Epoch 21/1000\n",
            "\u001b[1m3/3\u001b[0m \u001b[32m━━━━━━━━━━━━━━━━━━━━\u001b[0m\u001b[37m\u001b[0m \u001b[1m0s\u001b[0m 90ms/step - loss: 8526598.0000 - mse: 8526598.0000 - val_loss: 7851653.5000 - val_mse: 7851653.5000\n",
            "Epoch 22/1000\n",
            "\u001b[1m3/3\u001b[0m \u001b[32m━━━━━━━━━━━━━━━━━━━━\u001b[0m\u001b[37m\u001b[0m \u001b[1m0s\u001b[0m 111ms/step - loss: 8491805.0000 - mse: 8491805.0000 - val_loss: 7834256.0000 - val_mse: 7834256.0000\n",
            "Epoch 23/1000\n",
            "\u001b[1m3/3\u001b[0m \u001b[32m━━━━━━━━━━━━━━━━━━━━\u001b[0m\u001b[37m\u001b[0m \u001b[1m0s\u001b[0m 78ms/step - loss: 8462642.0000 - mse: 8462642.0000 - val_loss: 7817771.0000 - val_mse: 7817771.0000\n",
            "Epoch 24/1000\n",
            "\u001b[1m3/3\u001b[0m \u001b[32m━━━━━━━━━━━━━━━━━━━━\u001b[0m\u001b[37m\u001b[0m \u001b[1m0s\u001b[0m 84ms/step - loss: 8145349.0000 - mse: 8145349.0000 - val_loss: 7786356.5000 - val_mse: 7786356.5000\n",
            "Epoch 25/1000\n",
            "\u001b[1m3/3\u001b[0m \u001b[32m━━━━━━━━━━━━━━━━━━━━\u001b[0m\u001b[37m\u001b[0m \u001b[1m1s\u001b[0m 269ms/step - loss: 8132715.0000 - mse: 8132715.0000 - val_loss: 7769029.5000 - val_mse: 7769029.5000\n",
            "Epoch 26/1000\n",
            "\u001b[1m3/3\u001b[0m \u001b[32m━━━━━━━━━━━━━━━━━━━━\u001b[0m\u001b[37m\u001b[0m \u001b[1m0s\u001b[0m 53ms/step - loss: 8049931.5000 - mse: 8049931.5000 - val_loss: 7749273.0000 - val_mse: 7749273.0000\n",
            "Epoch 27/1000\n",
            "\u001b[1m3/3\u001b[0m \u001b[32m━━━━━━━━━━━━━━━━━━━━\u001b[0m\u001b[37m\u001b[0m \u001b[1m0s\u001b[0m 64ms/step - loss: 8249929.0000 - mse: 8249929.0000 - val_loss: 7722432.0000 - val_mse: 7722432.0000\n",
            "Epoch 28/1000\n",
            "\u001b[1m3/3\u001b[0m \u001b[32m━━━━━━━━━━━━━━━━━━━━\u001b[0m\u001b[37m\u001b[0m \u001b[1m0s\u001b[0m 115ms/step - loss: 8203144.5000 - mse: 8203144.5000 - val_loss: 7681709.5000 - val_mse: 7681709.5000\n",
            "Epoch 29/1000\n",
            "\u001b[1m3/3\u001b[0m \u001b[32m━━━━━━━━━━━━━━━━━━━━\u001b[0m\u001b[37m\u001b[0m \u001b[1m0s\u001b[0m 75ms/step - loss: 8084886.0000 - mse: 8084886.0000 - val_loss: 7633944.5000 - val_mse: 7633944.5000\n",
            "Epoch 30/1000\n",
            "\u001b[1m3/3\u001b[0m \u001b[32m━━━━━━━━━━━━━━━━━━━━\u001b[0m\u001b[37m\u001b[0m \u001b[1m0s\u001b[0m 66ms/step - loss: 8233077.0000 - mse: 8233077.0000 - val_loss: 7614343.5000 - val_mse: 7614343.5000\n",
            "Epoch 31/1000\n",
            "\u001b[1m3/3\u001b[0m \u001b[32m━━━━━━━━━━━━━━━━━━━━\u001b[0m\u001b[37m\u001b[0m \u001b[1m0s\u001b[0m 76ms/step - loss: 7851103.0000 - mse: 7851103.0000 - val_loss: 7573771.5000 - val_mse: 7573771.5000\n",
            "Epoch 32/1000\n",
            "\u001b[1m3/3\u001b[0m \u001b[32m━━━━━━━━━━━━━━━━━━━━\u001b[0m\u001b[37m\u001b[0m \u001b[1m0s\u001b[0m 57ms/step - loss: 8045392.0000 - mse: 8045392.0000 - val_loss: 7546204.5000 - val_mse: 7546204.5000\n",
            "Epoch 33/1000\n",
            "\u001b[1m3/3\u001b[0m \u001b[32m━━━━━━━━━━━━━━━━━━━━\u001b[0m\u001b[37m\u001b[0m \u001b[1m0s\u001b[0m 52ms/step - loss: 8043143.5000 - mse: 8043143.5000 - val_loss: 7519390.0000 - val_mse: 7519390.0000\n",
            "Epoch 34/1000\n",
            "\u001b[1m3/3\u001b[0m \u001b[32m━━━━━━━━━━━━━━━━━━━━\u001b[0m\u001b[37m\u001b[0m \u001b[1m0s\u001b[0m 53ms/step - loss: 7988156.0000 - mse: 7988156.0000 - val_loss: 7490967.0000 - val_mse: 7490967.0000\n",
            "Epoch 35/1000\n",
            "\u001b[1m3/3\u001b[0m \u001b[32m━━━━━━━━━━━━━━━━━━━━\u001b[0m\u001b[37m\u001b[0m \u001b[1m0s\u001b[0m 48ms/step - loss: 7919824.5000 - mse: 7919824.5000 - val_loss: 7434322.5000 - val_mse: 7434322.5000\n",
            "Epoch 36/1000\n",
            "\u001b[1m3/3\u001b[0m \u001b[32m━━━━━━━━━━━━━━━━━━━━\u001b[0m\u001b[37m\u001b[0m \u001b[1m0s\u001b[0m 50ms/step - loss: 7714582.0000 - mse: 7714582.0000 - val_loss: 7389584.5000 - val_mse: 7389584.5000\n",
            "Epoch 37/1000\n",
            "\u001b[1m3/3\u001b[0m \u001b[32m━━━━━━━━━━━━━━━━━━━━\u001b[0m\u001b[37m\u001b[0m \u001b[1m0s\u001b[0m 50ms/step - loss: 7837640.0000 - mse: 7837640.0000 - val_loss: 7363499.0000 - val_mse: 7363499.0000\n",
            "Epoch 38/1000\n",
            "\u001b[1m3/3\u001b[0m \u001b[32m━━━━━━━━━━━━━━━━━━━━\u001b[0m\u001b[37m\u001b[0m \u001b[1m0s\u001b[0m 55ms/step - loss: 7828184.0000 - mse: 7828184.0000 - val_loss: 7304352.0000 - val_mse: 7304352.0000\n",
            "Epoch 39/1000\n",
            "\u001b[1m3/3\u001b[0m \u001b[32m━━━━━━━━━━━━━━━━━━━━\u001b[0m\u001b[37m\u001b[0m \u001b[1m0s\u001b[0m 133ms/step - loss: 7945265.5000 - mse: 7945265.5000 - val_loss: 7276205.5000 - val_mse: 7276205.5000\n",
            "Epoch 40/1000\n",
            "\u001b[1m3/3\u001b[0m \u001b[32m━━━━━━━━━━━━━━━━━━━━\u001b[0m\u001b[37m\u001b[0m \u001b[1m1s\u001b[0m 145ms/step - loss: 7703838.0000 - mse: 7703838.0000 - val_loss: 7210149.0000 - val_mse: 7210149.0000\n",
            "Epoch 41/1000\n",
            "\u001b[1m3/3\u001b[0m \u001b[32m━━━━━━━━━━━━━━━━━━━━\u001b[0m\u001b[37m\u001b[0m \u001b[1m0s\u001b[0m 70ms/step - loss: 7654159.0000 - mse: 7654159.0000 - val_loss: 7186208.5000 - val_mse: 7186208.5000\n",
            "Epoch 42/1000\n",
            "\u001b[1m3/3\u001b[0m \u001b[32m━━━━━━━━━━━━━━━━━━━━\u001b[0m\u001b[37m\u001b[0m \u001b[1m0s\u001b[0m 55ms/step - loss: 7616407.0000 - mse: 7616407.0000 - val_loss: 7149288.5000 - val_mse: 7149288.5000\n",
            "Epoch 43/1000\n",
            "\u001b[1m3/3\u001b[0m \u001b[32m━━━━━━━━━━━━━━━━━━━━\u001b[0m\u001b[37m\u001b[0m \u001b[1m0s\u001b[0m 111ms/step - loss: 7562030.5000 - mse: 7562030.5000 - val_loss: 7112338.5000 - val_mse: 7112338.5000\n",
            "Epoch 44/1000\n",
            "\u001b[1m3/3\u001b[0m \u001b[32m━━━━━━━━━━━━━━━━━━━━\u001b[0m\u001b[37m\u001b[0m \u001b[1m0s\u001b[0m 64ms/step - loss: 7611058.0000 - mse: 7611058.0000 - val_loss: 7071170.5000 - val_mse: 7071170.5000\n",
            "Epoch 45/1000\n",
            "\u001b[1m3/3\u001b[0m \u001b[32m━━━━━━━━━━━━━━━━━━━━\u001b[0m\u001b[37m\u001b[0m \u001b[1m0s\u001b[0m 87ms/step - loss: 7237685.5000 - mse: 7237685.5000 - val_loss: 6989704.0000 - val_mse: 6989704.0000\n",
            "Epoch 46/1000\n",
            "\u001b[1m3/3\u001b[0m \u001b[32m━━━━━━━━━━━━━━━━━━━━\u001b[0m\u001b[37m\u001b[0m \u001b[1m0s\u001b[0m 61ms/step - loss: 7459518.0000 - mse: 7459518.0000 - val_loss: 6916661.0000 - val_mse: 6916661.0000\n",
            "Epoch 47/1000\n",
            "\u001b[1m3/3\u001b[0m \u001b[32m━━━━━━━━━━━━━━━━━━━━\u001b[0m\u001b[37m\u001b[0m \u001b[1m0s\u001b[0m 82ms/step - loss: 7242897.5000 - mse: 7242897.5000 - val_loss: 6859744.5000 - val_mse: 6859744.5000\n",
            "Epoch 48/1000\n",
            "\u001b[1m3/3\u001b[0m \u001b[32m━━━━━━━━━━━━━━━━━━━━\u001b[0m\u001b[37m\u001b[0m \u001b[1m0s\u001b[0m 102ms/step - loss: 7214800.0000 - mse: 7214800.0000 - val_loss: 6821220.5000 - val_mse: 6821220.5000\n",
            "Epoch 49/1000\n",
            "\u001b[1m3/3\u001b[0m \u001b[32m━━━━━━━━━━━━━━━━━━━━\u001b[0m\u001b[37m\u001b[0m \u001b[1m0s\u001b[0m 76ms/step - loss: 7555988.0000 - mse: 7555988.0000 - val_loss: 6758721.5000 - val_mse: 6758721.5000\n",
            "Epoch 50/1000\n",
            "\u001b[1m3/3\u001b[0m \u001b[32m━━━━━━━━━━━━━━━━━━━━\u001b[0m\u001b[37m\u001b[0m \u001b[1m0s\u001b[0m 64ms/step - loss: 7289658.0000 - mse: 7289658.0000 - val_loss: 6693692.0000 - val_mse: 6693692.0000\n",
            "Epoch 51/1000\n",
            "\u001b[1m3/3\u001b[0m \u001b[32m━━━━━━━━━━━━━━━━━━━━\u001b[0m\u001b[37m\u001b[0m \u001b[1m0s\u001b[0m 65ms/step - loss: 7107251.0000 - mse: 7107251.0000 - val_loss: 6641392.5000 - val_mse: 6641392.5000\n",
            "Epoch 52/1000\n",
            "\u001b[1m3/3\u001b[0m \u001b[32m━━━━━━━━━━━━━━━━━━━━\u001b[0m\u001b[37m\u001b[0m \u001b[1m0s\u001b[0m 64ms/step - loss: 7272006.0000 - mse: 7272006.0000 - val_loss: 6570252.0000 - val_mse: 6570252.0000\n",
            "Epoch 53/1000\n",
            "\u001b[1m3/3\u001b[0m \u001b[32m━━━━━━━━━━━━━━━━━━━━\u001b[0m\u001b[37m\u001b[0m \u001b[1m0s\u001b[0m 79ms/step - loss: 7395416.0000 - mse: 7395416.0000 - val_loss: 6470777.5000 - val_mse: 6470777.5000\n",
            "Epoch 54/1000\n",
            "\u001b[1m3/3\u001b[0m \u001b[32m━━━━━━━━━━━━━━━━━━━━\u001b[0m\u001b[37m\u001b[0m \u001b[1m0s\u001b[0m 62ms/step - loss: 6967881.0000 - mse: 6967881.0000 - val_loss: 6361398.0000 - val_mse: 6361398.0000\n",
            "Epoch 55/1000\n",
            "\u001b[1m3/3\u001b[0m \u001b[32m━━━━━━━━━━━━━━━━━━━━\u001b[0m\u001b[37m\u001b[0m \u001b[1m0s\u001b[0m 62ms/step - loss: 6829941.0000 - mse: 6829941.0000 - val_loss: 6303257.0000 - val_mse: 6303257.0000\n",
            "Epoch 56/1000\n",
            "\u001b[1m3/3\u001b[0m \u001b[32m━━━━━━━━━━━━━━━━━━━━\u001b[0m\u001b[37m\u001b[0m \u001b[1m0s\u001b[0m 59ms/step - loss: 6478020.5000 - mse: 6478020.5000 - val_loss: 6236085.5000 - val_mse: 6236085.5000\n",
            "Epoch 57/1000\n",
            "\u001b[1m3/3\u001b[0m \u001b[32m━━━━━━━━━━━━━━━━━━━━\u001b[0m\u001b[37m\u001b[0m \u001b[1m0s\u001b[0m 50ms/step - loss: 6675498.0000 - mse: 6675498.0000 - val_loss: 6164136.5000 - val_mse: 6164136.5000\n",
            "Epoch 58/1000\n",
            "\u001b[1m3/3\u001b[0m \u001b[32m━━━━━━━━━━━━━━━━━━━━\u001b[0m\u001b[37m\u001b[0m \u001b[1m0s\u001b[0m 56ms/step - loss: 6686200.5000 - mse: 6686200.5000 - val_loss: 6069872.5000 - val_mse: 6069872.5000\n",
            "Epoch 59/1000\n",
            "\u001b[1m3/3\u001b[0m \u001b[32m━━━━━━━━━━━━━━━━━━━━\u001b[0m\u001b[37m\u001b[0m \u001b[1m0s\u001b[0m 64ms/step - loss: 6479229.5000 - mse: 6479229.5000 - val_loss: 5950593.5000 - val_mse: 5950593.5000\n",
            "Epoch 60/1000\n",
            "\u001b[1m3/3\u001b[0m \u001b[32m━━━━━━━━━━━━━━━━━━━━\u001b[0m\u001b[37m\u001b[0m \u001b[1m0s\u001b[0m 70ms/step - loss: 6131919.0000 - mse: 6131919.0000 - val_loss: 5806972.5000 - val_mse: 5806972.5000\n",
            "Epoch 61/1000\n",
            "\u001b[1m3/3\u001b[0m \u001b[32m━━━━━━━━━━━━━━━━━━━━\u001b[0m\u001b[37m\u001b[0m \u001b[1m0s\u001b[0m 200ms/step - loss: 6373168.5000 - mse: 6373168.5000 - val_loss: 5736647.0000 - val_mse: 5736647.0000\n",
            "Epoch 62/1000\n",
            "\u001b[1m3/3\u001b[0m \u001b[32m━━━━━━━━━━━━━━━━━━━━\u001b[0m\u001b[37m\u001b[0m \u001b[1m0s\u001b[0m 72ms/step - loss: 6318789.0000 - mse: 6318789.0000 - val_loss: 5661203.5000 - val_mse: 5661203.5000\n",
            "Epoch 63/1000\n",
            "\u001b[1m3/3\u001b[0m \u001b[32m━━━━━━━━━━━━━━━━━━━━\u001b[0m\u001b[37m\u001b[0m \u001b[1m0s\u001b[0m 61ms/step - loss: 6070182.5000 - mse: 6070182.5000 - val_loss: 5570494.5000 - val_mse: 5570494.5000\n",
            "Epoch 64/1000\n",
            "\u001b[1m3/3\u001b[0m \u001b[32m━━━━━━━━━━━━━━━━━━━━\u001b[0m\u001b[37m\u001b[0m \u001b[1m0s\u001b[0m 57ms/step - loss: 6064378.5000 - mse: 6064378.5000 - val_loss: 5481072.0000 - val_mse: 5481072.0000\n",
            "Epoch 65/1000\n",
            "\u001b[1m3/3\u001b[0m \u001b[32m━━━━━━━━━━━━━━━━━━━━\u001b[0m\u001b[37m\u001b[0m \u001b[1m0s\u001b[0m 58ms/step - loss: 5779791.0000 - mse: 5779791.0000 - val_loss: 5343367.5000 - val_mse: 5343367.5000\n",
            "Epoch 66/1000\n",
            "\u001b[1m3/3\u001b[0m \u001b[32m━━━━━━━━━━━━━━━━━━━━\u001b[0m\u001b[37m\u001b[0m \u001b[1m0s\u001b[0m 56ms/step - loss: 5581843.5000 - mse: 5581843.5000 - val_loss: 5224870.0000 - val_mse: 5224870.0000\n",
            "Epoch 67/1000\n",
            "\u001b[1m3/3\u001b[0m \u001b[32m━━━━━━━━━━━━━━━━━━━━\u001b[0m\u001b[37m\u001b[0m \u001b[1m0s\u001b[0m 62ms/step - loss: 5739331.0000 - mse: 5739331.0000 - val_loss: 5086384.0000 - val_mse: 5086384.0000\n",
            "Epoch 68/1000\n",
            "\u001b[1m3/3\u001b[0m \u001b[32m━━━━━━━━━━━━━━━━━━━━\u001b[0m\u001b[37m\u001b[0m \u001b[1m0s\u001b[0m 60ms/step - loss: 5428332.5000 - mse: 5428332.5000 - val_loss: 4971121.5000 - val_mse: 4971121.5000\n",
            "Epoch 69/1000\n",
            "\u001b[1m3/3\u001b[0m \u001b[32m━━━━━━━━━━━━━━━━━━━━\u001b[0m\u001b[37m\u001b[0m \u001b[1m0s\u001b[0m 97ms/step - loss: 5390126.0000 - mse: 5390126.0000 - val_loss: 4819564.5000 - val_mse: 4819564.5000\n",
            "Epoch 70/1000\n",
            "\u001b[1m3/3\u001b[0m \u001b[32m━━━━━━━━━━━━━━━━━━━━\u001b[0m\u001b[37m\u001b[0m \u001b[1m0s\u001b[0m 66ms/step - loss: 5210452.0000 - mse: 5210452.0000 - val_loss: 4696086.5000 - val_mse: 4696086.5000\n",
            "Epoch 71/1000\n",
            "\u001b[1m3/3\u001b[0m \u001b[32m━━━━━━━━━━━━━━━━━━━━\u001b[0m\u001b[37m\u001b[0m \u001b[1m0s\u001b[0m 51ms/step - loss: 4990050.5000 - mse: 4990050.5000 - val_loss: 4592390.0000 - val_mse: 4592390.0000\n",
            "Epoch 72/1000\n",
            "\u001b[1m3/3\u001b[0m \u001b[32m━━━━━━━━━━━━━━━━━━━━\u001b[0m\u001b[37m\u001b[0m \u001b[1m0s\u001b[0m 97ms/step - loss: 5044235.5000 - mse: 5044235.5000 - val_loss: 4480949.0000 - val_mse: 4480949.0000\n",
            "Epoch 73/1000\n",
            "\u001b[1m3/3\u001b[0m \u001b[32m━━━━━━━━━━━━━━━━━━━━\u001b[0m\u001b[37m\u001b[0m \u001b[1m0s\u001b[0m 66ms/step - loss: 4851632.0000 - mse: 4851632.0000 - val_loss: 4264087.5000 - val_mse: 4264087.5000\n",
            "Epoch 74/1000\n",
            "\u001b[1m3/3\u001b[0m \u001b[32m━━━━━━━━━━━━━━━━━━━━\u001b[0m\u001b[37m\u001b[0m \u001b[1m0s\u001b[0m 60ms/step - loss: 4628427.5000 - mse: 4628427.5000 - val_loss: 4185848.0000 - val_mse: 4185848.0000\n",
            "Epoch 75/1000\n",
            "\u001b[1m3/3\u001b[0m \u001b[32m━━━━━━━━━━━━━━━━━━━━\u001b[0m\u001b[37m\u001b[0m \u001b[1m0s\u001b[0m 60ms/step - loss: 4518662.0000 - mse: 4518662.0000 - val_loss: 4009760.5000 - val_mse: 4009760.5000\n",
            "Epoch 76/1000\n",
            "\u001b[1m3/3\u001b[0m \u001b[32m━━━━━━━━━━━━━━━━━━━━\u001b[0m\u001b[37m\u001b[0m \u001b[1m0s\u001b[0m 90ms/step - loss: 4389462.0000 - mse: 4389462.0000 - val_loss: 3892476.0000 - val_mse: 3892476.0000\n",
            "Epoch 77/1000\n",
            "\u001b[1m3/3\u001b[0m \u001b[32m━━━━━━━━━━━━━━━━━━━━\u001b[0m\u001b[37m\u001b[0m \u001b[1m0s\u001b[0m 64ms/step - loss: 4411480.0000 - mse: 4411480.0000 - val_loss: 3829393.5000 - val_mse: 3829393.5000\n",
            "Epoch 78/1000\n",
            "\u001b[1m3/3\u001b[0m \u001b[32m━━━━━━━━━━━━━━━━━━━━\u001b[0m\u001b[37m\u001b[0m \u001b[1m0s\u001b[0m 66ms/step - loss: 4366754.0000 - mse: 4366754.0000 - val_loss: 3753214.0000 - val_mse: 3753214.0000\n",
            "Epoch 79/1000\n",
            "\u001b[1m3/3\u001b[0m \u001b[32m━━━━━━━━━━━━━━━━━━━━\u001b[0m\u001b[37m\u001b[0m \u001b[1m0s\u001b[0m 63ms/step - loss: 4228930.0000 - mse: 4228930.0000 - val_loss: 3575466.2500 - val_mse: 3575466.2500\n",
            "Epoch 80/1000\n",
            "\u001b[1m3/3\u001b[0m \u001b[32m━━━━━━━━━━━━━━━━━━━━\u001b[0m\u001b[37m\u001b[0m \u001b[1m0s\u001b[0m 73ms/step - loss: 3906928.7500 - mse: 3906928.7500 - val_loss: 3473956.7500 - val_mse: 3473956.7500\n",
            "Epoch 81/1000\n",
            "\u001b[1m3/3\u001b[0m \u001b[32m━━━━━━━━━━━━━━━━━━━━\u001b[0m\u001b[37m\u001b[0m \u001b[1m0s\u001b[0m 62ms/step - loss: 3712050.5000 - mse: 3712050.5000 - val_loss: 3354776.7500 - val_mse: 3354776.7500\n",
            "Epoch 82/1000\n",
            "\u001b[1m3/3\u001b[0m \u001b[32m━━━━━━━━━━━━━━━━━━━━\u001b[0m\u001b[37m\u001b[0m \u001b[1m0s\u001b[0m 74ms/step - loss: 3585126.0000 - mse: 3585126.0000 - val_loss: 3278872.0000 - val_mse: 3278872.0000\n",
            "Epoch 83/1000\n",
            "\u001b[1m3/3\u001b[0m \u001b[32m━━━━━━━━━━━━━━━━━━━━\u001b[0m\u001b[37m\u001b[0m \u001b[1m0s\u001b[0m 60ms/step - loss: 3650728.2500 - mse: 3650728.2500 - val_loss: 3138406.5000 - val_mse: 3138406.5000\n",
            "Epoch 84/1000\n",
            "\u001b[1m3/3\u001b[0m \u001b[32m━━━━━━━━━━━━━━━━━━━━\u001b[0m\u001b[37m\u001b[0m \u001b[1m0s\u001b[0m 62ms/step - loss: 3444646.0000 - mse: 3444646.0000 - val_loss: 3057182.0000 - val_mse: 3057182.0000\n",
            "Epoch 85/1000\n",
            "\u001b[1m3/3\u001b[0m \u001b[32m━━━━━━━━━━━━━━━━━━━━\u001b[0m\u001b[37m\u001b[0m \u001b[1m0s\u001b[0m 66ms/step - loss: 3392754.0000 - mse: 3392754.0000 - val_loss: 2960045.5000 - val_mse: 2960045.5000\n",
            "Epoch 86/1000\n",
            "\u001b[1m3/3\u001b[0m \u001b[32m━━━━━━━━━━━━━━━━━━━━\u001b[0m\u001b[37m\u001b[0m \u001b[1m0s\u001b[0m 68ms/step - loss: 3130490.5000 - mse: 3130490.5000 - val_loss: 2793879.7500 - val_mse: 2793879.7500\n",
            "Epoch 87/1000\n",
            "\u001b[1m3/3\u001b[0m \u001b[32m━━━━━━━━━━━━━━━━━━━━\u001b[0m\u001b[37m\u001b[0m \u001b[1m0s\u001b[0m 68ms/step - loss: 3057104.5000 - mse: 3057104.5000 - val_loss: 2703216.5000 - val_mse: 2703216.5000\n",
            "Epoch 88/1000\n",
            "\u001b[1m3/3\u001b[0m \u001b[32m━━━━━━━━━━━━━━━━━━━━\u001b[0m\u001b[37m\u001b[0m \u001b[1m0s\u001b[0m 58ms/step - loss: 2928329.7500 - mse: 2928329.7500 - val_loss: 2535114.0000 - val_mse: 2535114.0000\n",
            "Epoch 89/1000\n",
            "\u001b[1m3/3\u001b[0m \u001b[32m━━━━━━━━━━━━━━━━━━━━\u001b[0m\u001b[37m\u001b[0m \u001b[1m0s\u001b[0m 58ms/step - loss: 2962519.2500 - mse: 2962519.2500 - val_loss: 2441775.0000 - val_mse: 2441775.0000\n",
            "Epoch 90/1000\n",
            "\u001b[1m3/3\u001b[0m \u001b[32m━━━━━━━━━━━━━━━━━━━━\u001b[0m\u001b[37m\u001b[0m \u001b[1m0s\u001b[0m 59ms/step - loss: 2849919.0000 - mse: 2849919.0000 - val_loss: 2335043.0000 - val_mse: 2335043.0000\n",
            "Epoch 91/1000\n",
            "\u001b[1m3/3\u001b[0m \u001b[32m━━━━━━━━━━━━━━━━━━━━\u001b[0m\u001b[37m\u001b[0m \u001b[1m0s\u001b[0m 59ms/step - loss: 2590199.2500 - mse: 2590199.2500 - val_loss: 2209699.7500 - val_mse: 2209699.7500\n",
            "Epoch 92/1000\n",
            "\u001b[1m3/3\u001b[0m \u001b[32m━━━━━━━━━━━━━━━━━━━━\u001b[0m\u001b[37m\u001b[0m \u001b[1m0s\u001b[0m 63ms/step - loss: 2536581.2500 - mse: 2536581.2500 - val_loss: 2107695.2500 - val_mse: 2107695.2500\n",
            "Epoch 93/1000\n",
            "\u001b[1m3/3\u001b[0m \u001b[32m━━━━━━━━━━━━━━━━━━━━\u001b[0m\u001b[37m\u001b[0m \u001b[1m0s\u001b[0m 67ms/step - loss: 2477653.5000 - mse: 2477653.5000 - val_loss: 1927275.0000 - val_mse: 1927275.0000\n",
            "Epoch 94/1000\n",
            "\u001b[1m3/3\u001b[0m \u001b[32m━━━━━━━━━━━━━━━━━━━━\u001b[0m\u001b[37m\u001b[0m \u001b[1m0s\u001b[0m 72ms/step - loss: 2131526.0000 - mse: 2131526.0000 - val_loss: 1752113.7500 - val_mse: 1752113.7500\n",
            "Epoch 95/1000\n",
            "\u001b[1m3/3\u001b[0m \u001b[32m━━━━━━━━━━━━━━━━━━━━\u001b[0m\u001b[37m\u001b[0m \u001b[1m0s\u001b[0m 93ms/step - loss: 2008681.8750 - mse: 2008681.8750 - val_loss: 1602885.7500 - val_mse: 1602885.7500\n",
            "Epoch 96/1000\n",
            "\u001b[1m3/3\u001b[0m \u001b[32m━━━━━━━━━━━━━━━━━━━━\u001b[0m\u001b[37m\u001b[0m \u001b[1m0s\u001b[0m 68ms/step - loss: 1721436.7500 - mse: 1721436.7500 - val_loss: 1476186.2500 - val_mse: 1476186.2500\n",
            "Epoch 97/1000\n",
            "\u001b[1m3/3\u001b[0m \u001b[32m━━━━━━━━━━━━━━━━━━━━\u001b[0m\u001b[37m\u001b[0m \u001b[1m0s\u001b[0m 76ms/step - loss: 1715124.0000 - mse: 1715124.0000 - val_loss: 1425984.8750 - val_mse: 1425984.8750\n",
            "Epoch 98/1000\n",
            "\u001b[1m3/3\u001b[0m \u001b[32m━━━━━━━━━━━━━━━━━━━━\u001b[0m\u001b[37m\u001b[0m \u001b[1m0s\u001b[0m 66ms/step - loss: 1601108.5000 - mse: 1601108.5000 - val_loss: 1361233.6250 - val_mse: 1361233.6250\n",
            "Epoch 99/1000\n",
            "\u001b[1m3/3\u001b[0m \u001b[32m━━━━━━━━━━━━━━━━━━━━\u001b[0m\u001b[37m\u001b[0m \u001b[1m0s\u001b[0m 65ms/step - loss: 1520504.7500 - mse: 1520504.7500 - val_loss: 1293508.5000 - val_mse: 1293508.5000\n",
            "Epoch 100/1000\n",
            "\u001b[1m3/3\u001b[0m \u001b[32m━━━━━━━━━━━━━━━━━━━━\u001b[0m\u001b[37m\u001b[0m \u001b[1m0s\u001b[0m 59ms/step - loss: 1555390.6250 - mse: 1555390.6250 - val_loss: 1238617.8750 - val_mse: 1238617.8750\n",
            "Epoch 101/1000\n",
            "\u001b[1m3/3\u001b[0m \u001b[32m━━━━━━━━━━━━━━━━━━━━\u001b[0m\u001b[37m\u001b[0m \u001b[1m0s\u001b[0m 79ms/step - loss: 1444740.8750 - mse: 1444740.8750 - val_loss: 1178730.3750 - val_mse: 1178730.3750\n",
            "Epoch 102/1000\n",
            "\u001b[1m3/3\u001b[0m \u001b[32m━━━━━━━━━━━━━━━━━━━━\u001b[0m\u001b[37m\u001b[0m \u001b[1m0s\u001b[0m 84ms/step - loss: 1418987.8750 - mse: 1418987.8750 - val_loss: 1122268.7500 - val_mse: 1122268.7500\n",
            "Epoch 103/1000\n",
            "\u001b[1m3/3\u001b[0m \u001b[32m━━━━━━━━━━━━━━━━━━━━\u001b[0m\u001b[37m\u001b[0m \u001b[1m0s\u001b[0m 107ms/step - loss: 1289764.1250 - mse: 1289764.1250 - val_loss: 1021091.8750 - val_mse: 1021091.8750\n",
            "Epoch 104/1000\n",
            "\u001b[1m3/3\u001b[0m \u001b[32m━━━━━━━━━━━━━━━━━━━━\u001b[0m\u001b[37m\u001b[0m \u001b[1m0s\u001b[0m 68ms/step - loss: 1169399.7500 - mse: 1169399.7500 - val_loss: 963613.6875 - val_mse: 963613.6875\n",
            "Epoch 105/1000\n",
            "\u001b[1m3/3\u001b[0m \u001b[32m━━━━━━━━━━━━━━━━━━━━\u001b[0m\u001b[37m\u001b[0m \u001b[1m0s\u001b[0m 92ms/step - loss: 1162176.7500 - mse: 1162176.7500 - val_loss: 887498.6875 - val_mse: 887498.6875\n",
            "Epoch 106/1000\n",
            "\u001b[1m3/3\u001b[0m \u001b[32m━━━━━━━━━━━━━━━━━━━━\u001b[0m\u001b[37m\u001b[0m \u001b[1m0s\u001b[0m 69ms/step - loss: 1010007.3125 - mse: 1010007.3125 - val_loss: 841785.3750 - val_mse: 841785.3750\n",
            "Epoch 107/1000\n",
            "\u001b[1m3/3\u001b[0m \u001b[32m━━━━━━━━━━━━━━━━━━━━\u001b[0m\u001b[37m\u001b[0m \u001b[1m0s\u001b[0m 66ms/step - loss: 969997.6250 - mse: 969997.6250 - val_loss: 733944.5000 - val_mse: 733944.5000\n",
            "Epoch 108/1000\n",
            "\u001b[1m3/3\u001b[0m \u001b[32m━━━━━━━━━━━━━━━━━━━━\u001b[0m\u001b[37m\u001b[0m \u001b[1m0s\u001b[0m 56ms/step - loss: 870815.9375 - mse: 870815.9375 - val_loss: 714674.6875 - val_mse: 714674.6875\n",
            "Epoch 109/1000\n",
            "\u001b[1m3/3\u001b[0m \u001b[32m━━━━━━━━━━━━━━━━━━━━\u001b[0m\u001b[37m\u001b[0m \u001b[1m0s\u001b[0m 62ms/step - loss: 814846.9375 - mse: 814846.9375 - val_loss: 684528.6250 - val_mse: 684528.6250\n",
            "Epoch 110/1000\n",
            "\u001b[1m3/3\u001b[0m \u001b[32m━━━━━━━━━━━━━━━━━━━━\u001b[0m\u001b[37m\u001b[0m \u001b[1m0s\u001b[0m 59ms/step - loss: 788629.1875 - mse: 788629.1875 - val_loss: 668246.0625 - val_mse: 668246.0625\n",
            "Epoch 111/1000\n",
            "\u001b[1m3/3\u001b[0m \u001b[32m━━━━━━━━━━━━━━━━━━━━\u001b[0m\u001b[37m\u001b[0m \u001b[1m0s\u001b[0m 58ms/step - loss: 729007.2500 - mse: 729007.2500 - val_loss: 642370.5625 - val_mse: 642370.5625\n",
            "Epoch 112/1000\n",
            "\u001b[1m3/3\u001b[0m \u001b[32m━━━━━━━━━━━━━━━━━━━━\u001b[0m\u001b[37m\u001b[0m \u001b[1m0s\u001b[0m 61ms/step - loss: 744712.3750 - mse: 744712.3750 - val_loss: 628269.8750 - val_mse: 628269.8750\n",
            "Epoch 113/1000\n",
            "\u001b[1m3/3\u001b[0m \u001b[32m━━━━━━━━━━━━━━━━━━━━\u001b[0m\u001b[37m\u001b[0m \u001b[1m0s\u001b[0m 59ms/step - loss: 708530.2500 - mse: 708530.2500 - val_loss: 609619.2500 - val_mse: 609619.2500\n",
            "Epoch 114/1000\n",
            "\u001b[1m3/3\u001b[0m \u001b[32m━━━━━━━━━━━━━━━━━━━━\u001b[0m\u001b[37m\u001b[0m \u001b[1m0s\u001b[0m 59ms/step - loss: 666984.3750 - mse: 666984.3750 - val_loss: 599702.7500 - val_mse: 599702.7500\n",
            "Epoch 115/1000\n",
            "\u001b[1m3/3\u001b[0m \u001b[32m━━━━━━━━━━━━━━━━━━━━\u001b[0m\u001b[37m\u001b[0m \u001b[1m0s\u001b[0m 64ms/step - loss: 642464.8125 - mse: 642464.8125 - val_loss: 560442.0000 - val_mse: 560442.0000\n",
            "Epoch 116/1000\n",
            "\u001b[1m3/3\u001b[0m \u001b[32m━━━━━━━━━━━━━━━━━━━━\u001b[0m\u001b[37m\u001b[0m \u001b[1m0s\u001b[0m 56ms/step - loss: 624988.3750 - mse: 624988.3750 - val_loss: 557128.3750 - val_mse: 557128.3750\n",
            "Epoch 117/1000\n",
            "\u001b[1m3/3\u001b[0m \u001b[32m━━━━━━━━━━━━━━━━━━━━\u001b[0m\u001b[37m\u001b[0m \u001b[1m0s\u001b[0m 65ms/step - loss: 623162.5625 - mse: 623162.5625 - val_loss: 545469.5000 - val_mse: 545469.5000\n",
            "Epoch 118/1000\n",
            "\u001b[1m3/3\u001b[0m \u001b[32m━━━━━━━━━━━━━━━━━━━━\u001b[0m\u001b[37m\u001b[0m \u001b[1m0s\u001b[0m 58ms/step - loss: 605969.6250 - mse: 605969.6250 - val_loss: 540481.8750 - val_mse: 540481.8750\n",
            "Epoch 119/1000\n",
            "\u001b[1m3/3\u001b[0m \u001b[32m━━━━━━━━━━━━━━━━━━━━\u001b[0m\u001b[37m\u001b[0m \u001b[1m0s\u001b[0m 82ms/step - loss: 589998.4375 - mse: 589998.4375 - val_loss: 535968.7500 - val_mse: 535968.7500\n",
            "Epoch 120/1000\n",
            "\u001b[1m3/3\u001b[0m \u001b[32m━━━━━━━━━━━━━━━━━━━━\u001b[0m\u001b[37m\u001b[0m \u001b[1m0s\u001b[0m 66ms/step - loss: 610259.5000 - mse: 610259.5000 - val_loss: 533766.7500 - val_mse: 533766.7500\n",
            "Epoch 121/1000\n",
            "\u001b[1m3/3\u001b[0m \u001b[32m━━━━━━━━━━━━━━━━━━━━\u001b[0m\u001b[37m\u001b[0m \u001b[1m0s\u001b[0m 64ms/step - loss: 580590.1875 - mse: 580590.1875 - val_loss: 518898.0938 - val_mse: 518898.0938\n",
            "Epoch 122/1000\n",
            "\u001b[1m3/3\u001b[0m \u001b[32m━━━━━━━━━━━━━━━━━━━━\u001b[0m\u001b[37m\u001b[0m \u001b[1m0s\u001b[0m 70ms/step - loss: 573517.6250 - mse: 573517.6250 - val_loss: 514001.1250 - val_mse: 514001.1250\n",
            "Epoch 123/1000\n",
            "\u001b[1m3/3\u001b[0m \u001b[32m━━━━━━━━━━━━━━━━━━━━\u001b[0m\u001b[37m\u001b[0m \u001b[1m0s\u001b[0m 61ms/step - loss: 548189.1250 - mse: 548189.1250 - val_loss: 516799.9375 - val_mse: 516799.9375\n",
            "Epoch 124/1000\n",
            "\u001b[1m3/3\u001b[0m \u001b[32m━━━━━━━━━━━━━━━━━━━━\u001b[0m\u001b[37m\u001b[0m \u001b[1m0s\u001b[0m 61ms/step - loss: 571263.3750 - mse: 571263.3750 - val_loss: 513100.2500 - val_mse: 513100.2500\n",
            "Epoch 125/1000\n",
            "\u001b[1m3/3\u001b[0m \u001b[32m━━━━━━━━━━━━━━━━━━━━\u001b[0m\u001b[37m\u001b[0m \u001b[1m0s\u001b[0m 58ms/step - loss: 561973.5000 - mse: 561973.5000 - val_loss: 518446.2188 - val_mse: 518446.2188\n",
            "Epoch 126/1000\n",
            "\u001b[1m3/3\u001b[0m \u001b[32m━━━━━━━━━━━━━━━━━━━━\u001b[0m\u001b[37m\u001b[0m \u001b[1m0s\u001b[0m 68ms/step - loss: 577818.3125 - mse: 577818.3125 - val_loss: 511565.1250 - val_mse: 511565.1250\n",
            "Epoch 127/1000\n",
            "\u001b[1m3/3\u001b[0m \u001b[32m━━━━━━━━━━━━━━━━━━━━\u001b[0m\u001b[37m\u001b[0m \u001b[1m0s\u001b[0m 63ms/step - loss: 567443.5000 - mse: 567443.5000 - val_loss: 503814.2500 - val_mse: 503814.2500\n",
            "Epoch 128/1000\n",
            "\u001b[1m3/3\u001b[0m \u001b[32m━━━━━━━━━━━━━━━━━━━━\u001b[0m\u001b[37m\u001b[0m \u001b[1m0s\u001b[0m 73ms/step - loss: 551260.6250 - mse: 551260.6250 - val_loss: 502642.2188 - val_mse: 502642.2188\n",
            "Epoch 129/1000\n",
            "\u001b[1m3/3\u001b[0m \u001b[32m━━━━━━━━━━━━━━━━━━━━\u001b[0m\u001b[37m\u001b[0m \u001b[1m0s\u001b[0m 107ms/step - loss: 548570.0000 - mse: 548570.0000 - val_loss: 508316.1250 - val_mse: 508316.1250\n",
            "Epoch 130/1000\n",
            "\u001b[1m3/3\u001b[0m \u001b[32m━━━━━━━━━━━━━━━━━━━━\u001b[0m\u001b[37m\u001b[0m \u001b[1m0s\u001b[0m 57ms/step - loss: 556603.5000 - mse: 556603.5000 - val_loss: 504036.1562 - val_mse: 504036.1562\n",
            "Epoch 131/1000\n",
            "\u001b[1m3/3\u001b[0m \u001b[32m━━━━━━━━━━━━━━━━━━━━\u001b[0m\u001b[37m\u001b[0m \u001b[1m0s\u001b[0m 70ms/step - loss: 557900.4375 - mse: 557900.4375 - val_loss: 504807.9688 - val_mse: 504807.9688\n",
            "Epoch 132/1000\n",
            "\u001b[1m3/3\u001b[0m \u001b[32m━━━━━━━━━━━━━━━━━━━━\u001b[0m\u001b[37m\u001b[0m \u001b[1m0s\u001b[0m 71ms/step - loss: 542130.6250 - mse: 542130.6250 - val_loss: 503147.6250 - val_mse: 503147.6250\n",
            "Epoch 133/1000\n",
            "\u001b[1m3/3\u001b[0m \u001b[32m━━━━━━━━━━━━━━━━━━━━\u001b[0m\u001b[37m\u001b[0m \u001b[1m0s\u001b[0m 72ms/step - loss: 538621.5625 - mse: 538621.5625 - val_loss: 503191.2812 - val_mse: 503191.2812\n",
            "Epoch 134/1000\n",
            "\u001b[1m3/3\u001b[0m \u001b[32m━━━━━━━━━━━━━━━━━━━━\u001b[0m\u001b[37m\u001b[0m \u001b[1m0s\u001b[0m 58ms/step - loss: 541216.4375 - mse: 541216.4375 - val_loss: 506682.3125 - val_mse: 506682.3125\n",
            "Epoch 135/1000\n",
            "\u001b[1m3/3\u001b[0m \u001b[32m━━━━━━━━━━━━━━━━━━━━\u001b[0m\u001b[37m\u001b[0m \u001b[1m0s\u001b[0m 60ms/step - loss: 548557.3750 - mse: 548557.3750 - val_loss: 514081.8125 - val_mse: 514081.8125\n",
            "Epoch 136/1000\n",
            "\u001b[1m3/3\u001b[0m \u001b[32m━━━━━━━━━━━━━━━━━━━━\u001b[0m\u001b[37m\u001b[0m \u001b[1m0s\u001b[0m 71ms/step - loss: 547385.3750 - mse: 547385.3750 - val_loss: 509638.1562 - val_mse: 509638.1562\n",
            "Epoch 137/1000\n",
            "\u001b[1m3/3\u001b[0m \u001b[32m━━━━━━━━━━━━━━━━━━━━\u001b[0m\u001b[37m\u001b[0m \u001b[1m0s\u001b[0m 60ms/step - loss: 550012.5000 - mse: 550012.5000 - val_loss: 505569.8750 - val_mse: 505569.8750\n",
            "Epoch 138/1000\n",
            "\u001b[1m3/3\u001b[0m \u001b[32m━━━━━━━━━━━━━━━━━━━━\u001b[0m\u001b[37m\u001b[0m \u001b[1m0s\u001b[0m 71ms/step - loss: 548993.7500 - mse: 548993.7500 - val_loss: 502283.3125 - val_mse: 502283.3125\n",
            "Epoch 139/1000\n",
            "\u001b[1m3/3\u001b[0m \u001b[32m━━━━━━━━━━━━━━━━━━━━\u001b[0m\u001b[37m\u001b[0m \u001b[1m0s\u001b[0m 60ms/step - loss: 531732.1250 - mse: 531732.1250 - val_loss: 500582.9062 - val_mse: 500582.9062\n",
            "Epoch 140/1000\n",
            "\u001b[1m3/3\u001b[0m \u001b[32m━━━━━━━━━━━━━━━━━━━━\u001b[0m\u001b[37m\u001b[0m \u001b[1m0s\u001b[0m 61ms/step - loss: 537389.7500 - mse: 537389.7500 - val_loss: 505768.6875 - val_mse: 505768.6875\n",
            "Epoch 141/1000\n",
            "\u001b[1m3/3\u001b[0m \u001b[32m━━━━━━━━━━━━━━━━━━━━\u001b[0m\u001b[37m\u001b[0m \u001b[1m0s\u001b[0m 91ms/step - loss: 543839.7500 - mse: 543839.7500 - val_loss: 508112.8125 - val_mse: 508112.8125\n",
            "Epoch 142/1000\n",
            "\u001b[1m3/3\u001b[0m \u001b[32m━━━━━━━━━━━━━━━━━━━━\u001b[0m\u001b[37m\u001b[0m \u001b[1m0s\u001b[0m 70ms/step - loss: 556388.4375 - mse: 556388.4375 - val_loss: 505470.3125 - val_mse: 505470.3125\n",
            "Epoch 143/1000\n",
            "\u001b[1m3/3\u001b[0m \u001b[32m━━━━━━━━━━━━━━━━━━━━\u001b[0m\u001b[37m\u001b[0m \u001b[1m0s\u001b[0m 63ms/step - loss: 538763.0625 - mse: 538763.0625 - val_loss: 506968.1562 - val_mse: 506968.1562\n",
            "Epoch 144/1000\n",
            "\u001b[1m3/3\u001b[0m \u001b[32m━━━━━━━━━━━━━━━━━━━━\u001b[0m\u001b[37m\u001b[0m \u001b[1m0s\u001b[0m 58ms/step - loss: 529057.2500 - mse: 529057.2500 - val_loss: 501810.7500 - val_mse: 501810.7500\n",
            "Epoch 145/1000\n",
            "\u001b[1m3/3\u001b[0m \u001b[32m━━━━━━━━━━━━━━━━━━━━\u001b[0m\u001b[37m\u001b[0m \u001b[1m0s\u001b[0m 60ms/step - loss: 533841.5625 - mse: 533841.5625 - val_loss: 500444.1250 - val_mse: 500444.1250\n",
            "Epoch 146/1000\n",
            "\u001b[1m3/3\u001b[0m \u001b[32m━━━━━━━━━━━━━━━━━━━━\u001b[0m\u001b[37m\u001b[0m \u001b[1m0s\u001b[0m 67ms/step - loss: 538855.0625 - mse: 538855.0625 - val_loss: 500520.5938 - val_mse: 500520.5938\n",
            "Epoch 147/1000\n",
            "\u001b[1m3/3\u001b[0m \u001b[32m━━━━━━━━━━━━━━━━━━━━\u001b[0m\u001b[37m\u001b[0m \u001b[1m0s\u001b[0m 76ms/step - loss: 537640.8125 - mse: 537640.8125 - val_loss: 500006.4688 - val_mse: 500006.4688\n",
            "Epoch 148/1000\n",
            "\u001b[1m3/3\u001b[0m \u001b[32m━━━━━━━━━━━━━━━━━━━━\u001b[0m\u001b[37m\u001b[0m \u001b[1m0s\u001b[0m 58ms/step - loss: 557021.6250 - mse: 557021.6250 - val_loss: 502218.9688 - val_mse: 502218.9688\n",
            "Epoch 149/1000\n",
            "\u001b[1m3/3\u001b[0m \u001b[32m━━━━━━━━━━━━━━━━━━━━\u001b[0m\u001b[37m\u001b[0m \u001b[1m0s\u001b[0m 88ms/step - loss: 546161.8125 - mse: 546161.8125 - val_loss: 499310.9375 - val_mse: 499310.9375\n",
            "Epoch 150/1000\n",
            "\u001b[1m3/3\u001b[0m \u001b[32m━━━━━━━━━━━━━━━━━━━━\u001b[0m\u001b[37m\u001b[0m \u001b[1m0s\u001b[0m 65ms/step - loss: 534725.1250 - mse: 534725.1250 - val_loss: 500609.7500 - val_mse: 500609.7500\n",
            "Epoch 151/1000\n",
            "\u001b[1m3/3\u001b[0m \u001b[32m━━━━━━━━━━━━━━━━━━━━\u001b[0m\u001b[37m\u001b[0m \u001b[1m0s\u001b[0m 94ms/step - loss: 547543.0000 - mse: 547543.0000 - val_loss: 503908.5625 - val_mse: 503908.5625\n",
            "Epoch 152/1000\n",
            "\u001b[1m3/3\u001b[0m \u001b[32m━━━━━━━━━━━━━━━━━━━━\u001b[0m\u001b[37m\u001b[0m \u001b[1m0s\u001b[0m 59ms/step - loss: 555980.0625 - mse: 555980.0625 - val_loss: 507164.0312 - val_mse: 507164.0312\n",
            "Epoch 153/1000\n",
            "\u001b[1m3/3\u001b[0m \u001b[32m━━━━━━━━━━━━━━━━━━━━\u001b[0m\u001b[37m\u001b[0m \u001b[1m0s\u001b[0m 65ms/step - loss: 559557.7500 - mse: 559557.7500 - val_loss: 506566.2500 - val_mse: 506566.2500\n",
            "Epoch 154/1000\n",
            "\u001b[1m3/3\u001b[0m \u001b[32m━━━━━━━━━━━━━━━━━━━━\u001b[0m\u001b[37m\u001b[0m \u001b[1m0s\u001b[0m 71ms/step - loss: 563756.6250 - mse: 563756.6250 - val_loss: 510341.9688 - val_mse: 510341.9688\n",
            "Epoch 155/1000\n",
            "\u001b[1m3/3\u001b[0m \u001b[32m━━━━━━━━━━━━━━━━━━━━\u001b[0m\u001b[37m\u001b[0m \u001b[1m0s\u001b[0m 78ms/step - loss: 546939.3125 - mse: 546939.3125 - val_loss: 506059.3750 - val_mse: 506059.3750\n",
            "Epoch 156/1000\n",
            "\u001b[1m3/3\u001b[0m \u001b[32m━━━━━━━━━━━━━━━━━━━━\u001b[0m\u001b[37m\u001b[0m \u001b[1m0s\u001b[0m 65ms/step - loss: 551334.6875 - mse: 551334.6875 - val_loss: 508948.3125 - val_mse: 508948.3125\n",
            "Epoch 157/1000\n",
            "\u001b[1m3/3\u001b[0m \u001b[32m━━━━━━━━━━━━━━━━━━━━\u001b[0m\u001b[37m\u001b[0m \u001b[1m0s\u001b[0m 80ms/step - loss: 551388.3750 - mse: 551388.3750 - val_loss: 514989.7812 - val_mse: 514989.7812\n",
            "Epoch 158/1000\n",
            "\u001b[1m3/3\u001b[0m \u001b[32m━━━━━━━━━━━━━━━━━━━━\u001b[0m\u001b[37m\u001b[0m \u001b[1m0s\u001b[0m 72ms/step - loss: 573418.1875 - mse: 573418.1875 - val_loss: 517283.3750 - val_mse: 517283.3750\n",
            "Epoch 159/1000\n",
            "\u001b[1m3/3\u001b[0m \u001b[32m━━━━━━━━━━━━━━━━━━━━\u001b[0m\u001b[37m\u001b[0m \u001b[1m0s\u001b[0m 55ms/step - loss: 552965.3125 - mse: 552965.3125 - val_loss: 514540.0312 - val_mse: 514540.0312\n"
          ]
        }
      ],
      "source": [
        "# Callback\n",
        "\n",
        "# monitor='val_loss' -> مقدار تابع هزینه رو در هر ایپاک بررسی میکنه. اگر مقدار آن بهبود پیدا نکنه، شمارش توقف زود هنگام شروع میشه\n",
        "# patience=10 -> اگر به مدت ۱۰ ایپاک متوالی مقدار تابع هزینه بهتر نشه، آموزش متوقف میشه\n",
        "# restore_best_weights=True -> مدل در آخر ایپاک با کمترین تابع هزینه رو انتخاب میکنه که بهترین وزن هارو دارن نه آخرین ایپاک\n",
        "early_stop = keras.callbacks.EarlyStopping(monitor='val_loss', patience=10, restore_best_weights=True)\n",
        "\n",
        "# ّFit the model | فیت کردن\n",
        "hist = model_2.fit(x_train, y_train, epochs=1000, batch_size=128, callbacks=[early_stop], validation_data=(x_test, y_test))"
      ]
    },
    {
      "cell_type": "code",
      "execution_count": null,
      "metadata": {
        "colab": {
          "base_uri": "https://localhost:8080/",
          "height": 430
        },
        "id": "iaDErG1W9muE",
        "outputId": "36989245-83d2-44f7-a38f-13ace5df37b8"
      },
      "outputs": [
        {
          "data": {
            "image/png": "[encoded data removed]",
            "text/plain": [
              "<Figure size 640x480 with 1 Axes>"
            ]
          },
          "metadata": {},
          "output_type": "display_data"
        }
      ],
      "source": [
        "# Plot the histioty of test data prediction | نمایش تاریخچه تابع هزینه\n",
        "\n",
        "plt.plot(hist.history['loss'], color='red') # داده ترین\n",
        "plt.plot(hist.history['val_loss'], color='blue') # داده تست\n",
        "plt.show()"
      ]
    }
  ],
  "metadata": {
    "accelerator": "GPU",
    "colab": {
      "gpuType": "T4",
      "provenance": []
    },
    "kernelspec": {
      "display_name": "venv",
      "language": "python",
      "name": "python3"
    },
    "language_info": {
      "codemirror_mode": {
        "name": "ipython",
        "version": 3
      },
      "file_extension": ".py",
      "mimetype": "text/x-python",
      "name": "python",
      "nbconvert_exporter": "python",
      "pygments_lexer": "ipython3",
      "version": "3.12.6"
    }
  },
  "nbformat": 4,
  "nbformat_minor": 0
}
