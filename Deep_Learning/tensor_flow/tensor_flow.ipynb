{
  "cells": [
    {
      "cell_type": "code",
      "execution_count": 25,
      "metadata": {
        "id": "Et5srEKcnFO3"
      },
      "outputs": [],
      "source": [
        "import tensorflow as tf\n",
        "from numpy import float32"
      ]
    },
    {
      "cell_type": "markdown",
      "metadata": {
        "id": "ZW53aT9jtute"
      },
      "source": [
        "**different data structure => OD, 1D, 2D, more than 2D**"
      ]
    },
    {
      "cell_type": "code",
      "execution_count": null,
      "metadata": {
        "colab": {
          "base_uri": "https://localhost:8080/"
        },
        "id": "aTtmW1vGtqhv",
        "outputId": "19a025f1-ffb0-4e0a-b302-a68513371ac4"
      },
      "outputs": [
        {
          "data": {
            "text/plain": [
              "TensorShape([])"
            ]
          },
          "execution_count": 26,
          "metadata": {},
          "output_type": "execute_result"
        }
      ],
      "source": [
        "# Define tensors with different structures | تعریف تنسور با بعد های مختلف\n",
        "\n",
        "data_0D = tf.constant(5)\n",
        "data_0D.shape"
      ]
    },
    {
      "cell_type": "code",
      "execution_count": 27,
      "metadata": {
        "colab": {
          "base_uri": "https://localhost:8080/"
        },
        "id": "3GBAvH1luCZt",
        "outputId": "7657bb8c-e54d-45dc-f35f-dc1a79d323ac"
      },
      "outputs": [
        {
          "data": {
            "text/plain": [
              "TensorShape([3])"
            ]
          },
          "execution_count": 27,
          "metadata": {},
          "output_type": "execute_result"
        }
      ],
      "source": [
        "data_1D = tf.constant([1, 2, 3])\n",
        "data_1D.shape"
      ]
    },
    {
      "cell_type": "code",
      "execution_count": 28,
      "metadata": {
        "colab": {
          "base_uri": "https://localhost:8080/"
        },
        "id": "qB1_Zv5Yvb8V",
        "outputId": "5acf159f-f65c-459a-a2c4-c1a47ca21d19"
      },
      "outputs": [
        {
          "data": {
            "text/plain": [
              "TensorShape([2, 3])"
            ]
          },
          "execution_count": 28,
          "metadata": {},
          "output_type": "execute_result"
        }
      ],
      "source": [
        "data_2D = tf.constant([[1, 2, 3], [4, 5, 6]])\n",
        "data_2D.shape"
      ]
    },
    {
      "cell_type": "code",
      "execution_count": 29,
      "metadata": {
        "colab": {
          "base_uri": "https://localhost:8080/"
        },
        "id": "COOfnwamvpWs",
        "outputId": "0b2fff2c-d90e-4842-a471-be0fb93532ea"
      },
      "outputs": [
        {
          "data": {
            "text/plain": [
              "TensorShape([2, 2, 3])"
            ]
          },
          "execution_count": 29,
          "metadata": {},
          "output_type": "execute_result"
        }
      ],
      "source": [
        "data_3D = tf.constant([[[1, 2, 3], [4, 5, 6]], [[1, 2, 3], [4, 5, 6]]])\n",
        "data_3D.shape"
      ]
    },
    {
      "cell_type": "markdown",
      "metadata": {
        "id": "Y-3LIrf2yque"
      },
      "source": [
        "**Mathematical operations**"
      ]
    },
    {
      "cell_type": "code",
      "execution_count": null,
      "metadata": {
        "colab": {
          "base_uri": "https://localhost:8080/"
        },
        "id": "1LKiXYWFwOfM",
        "outputId": "1414566a-bbdc-45a5-c046-d786377563b8"
      },
      "outputs": [
        {
          "data": {
            "text/plain": [
              "array([4, 6], dtype=int32)"
            ]
          },
          "execution_count": 30,
          "metadata": {},
          "output_type": "execute_result"
        }
      ],
      "source": [
        "# عملیات ریاضی مختلف در تنسور فلو\n",
        "\n",
        "a = tf.constant([1, 2])\n",
        "b = tf.constant([3, 4])\n",
        "\n",
        "# Sum | جمع\n",
        "\n",
        "# ستون ها باهم جمع میشن\n",
        "sum = tf.add(a, b)\n",
        "sum.numpy() # از نامپای استفاده میکنیم تا جزئیات نشون داده نشن"
      ]
    },
    {
      "cell_type": "code",
      "execution_count": null,
      "metadata": {
        "colab": {
          "base_uri": "https://localhost:8080/"
        },
        "id": "SI-XvzVhz1yc",
        "outputId": "ad664973-4b22-4287-966c-50feec681691"
      },
      "outputs": [
        {
          "data": {
            "text/plain": [
              "array([-2, -2], dtype=int32)"
            ]
          },
          "execution_count": 31,
          "metadata": {},
          "output_type": "execute_result"
        }
      ],
      "source": [
        "# Subtract | تفریق\n",
        "\n",
        "subtract = tf.subtract(a, b)\n",
        "subtract.numpy()"
      ]
    },
    {
      "cell_type": "code",
      "execution_count": null,
      "metadata": {
        "colab": {
          "base_uri": "https://localhost:8080/"
        },
        "id": "-CvSEGUVKsyp",
        "outputId": "260f93ca-ca61-4cfd-c9c9-5058fbd2c4d7"
      },
      "outputs": [
        {
          "data": {
            "text/plain": [
              "array([0.33333333, 0.5       ])"
            ]
          },
          "execution_count": 32,
          "metadata": {},
          "output_type": "execute_result"
        }
      ],
      "source": [
        "# Division | تقسیم\n",
        "\n",
        "division = tf.divide(a, b)\n",
        "division.numpy()"
      ]
    },
    {
      "cell_type": "code",
      "execution_count": null,
      "metadata": {
        "colab": {
          "base_uri": "https://localhost:8080/"
        },
        "id": "KIJb2N4C0ant",
        "outputId": "7a4dfb07-25a5-447e-a263-786393c9c5c3"
      },
      "outputs": [
        {
          "data": {
            "text/plain": [
              "array([[ 0,  2],\n",
              "       [ 6, 12]], dtype=int32)"
            ]
          },
          "execution_count": 33,
          "metadata": {},
          "output_type": "execute_result"
        }
      ],
      "source": [
        "# Multiplication | ضرب\n",
        "\n",
        "# توی تنسور فلو دو نوع ضرب وجود داره\n",
        "# element wise | المنت وار\n",
        "# المنت های متناظر رو توی هم ضرب میکنه یعنی ستون ها باهم ضرب میشن\n",
        "e = tf.constant([[1, 2], [3, 4]])\n",
        "f = tf.constant([[0, 1], [2, 3]])\n",
        "ew = tf.multiply(e, f)\n",
        "ew.numpy()"
      ]
    },
    {
      "cell_type": "code",
      "execution_count": null,
      "metadata": {
        "colab": {
          "base_uri": "https://localhost:8080/"
        },
        "id": "wmYlXvRvI8md",
        "outputId": "3e15b342-48a0-4e66-e27a-ea2bf20db315"
      },
      "outputs": [
        {
          "data": {
            "text/plain": [
              "array([[ 4,  7],\n",
              "       [ 8, 15]], dtype=int32)"
            ]
          },
          "execution_count": 34,
          "metadata": {},
          "output_type": "execute_result"
        }
      ],
      "source": [
        "# Matrix multiplication | ضرب ماتریسی\n",
        "mm = tf.matmul(e, f)\n",
        "mm.numpy()"
      ]
    },
    {
      "cell_type": "code",
      "execution_count": null,
      "metadata": {
        "colab": {
          "base_uri": "https://localhost:8080/"
        },
        "id": "ZOkIViNLKT-k",
        "outputId": "9c8b428c-4df2-429c-e544-2dda66805b86"
      },
      "outputs": [
        {
          "data": {
            "text/plain": [
              "array([ 4,  8, 12], dtype=int32)"
            ]
          },
          "execution_count": 35,
          "metadata": {},
          "output_type": "execute_result"
        }
      ],
      "source": [
        "# Broadcasting | پخش کردن\n",
        "\n",
        "# همه ی اعداد متغیر اِی رو در 4 ضرب میکنیم\n",
        "a = tf.constant([1, 2, 3])\n",
        "b = tf.constant(4) # =>[4, 4, 4]\n",
        "\n",
        "c = tf.multiply(a, b)\n",
        "c.numpy()\n"
      ]
    },
    {
      "cell_type": "code",
      "execution_count": null,
      "metadata": {
        "colab": {
          "base_uri": "https://localhost:8080/"
        },
        "id": "rzEg45PeRIXM",
        "outputId": "c300d907-ddb6-40be-bd68-740b789bfa6a"
      },
      "outputs": [
        {
          "data": {
            "text/plain": [
              "TensorShape([6])"
            ]
          },
          "execution_count": 36,
          "metadata": {},
          "output_type": "execute_result"
        }
      ],
      "source": [
        "# Reshape | تغییر سایز ماتریس یا بردار\n",
        "\n",
        "a = tf.constant([1, 2, 3, 4, 5, 6])\n",
        "a.shape # نمایش سایز"
      ]
    },
    {
      "cell_type": "code",
      "execution_count": 37,
      "metadata": {
        "colab": {
          "base_uri": "https://localhost:8080/"
        },
        "id": "lQLcpSumSObE",
        "outputId": "544c9574-aa69-4049-fd79-6d0ff2ef1454"
      },
      "outputs": [
        {
          "data": {
            "text/plain": [
              "TensorShape([2, 3])"
            ]
          },
          "execution_count": 37,
          "metadata": {},
          "output_type": "execute_result"
        }
      ],
      "source": [
        "b = tf.reshape(a, shape=(2, 3)) # تبدیل به یک ماتریس 2در3\n",
        "b.shape"
      ]
    },
    {
      "cell_type": "code",
      "execution_count": 38,
      "metadata": {
        "colab": {
          "base_uri": "https://localhost:8080/"
        },
        "id": "lwLOnDHVSURk",
        "outputId": "89c6f869-51ce-4199-9d26-0c845ee8df50"
      },
      "outputs": [
        {
          "data": {
            "text/plain": [
              "array([[1, 2, 3],\n",
              "       [4, 5, 6]], dtype=int32)"
            ]
          },
          "execution_count": 38,
          "metadata": {},
          "output_type": "execute_result"
        }
      ],
      "source": [
        "b.numpy()"
      ]
    },
    {
      "cell_type": "code",
      "execution_count": null,
      "metadata": {
        "colab": {
          "base_uri": "https://localhost:8080/"
        },
        "id": "0iUoqgW2j9Z9",
        "outputId": "6da7eb44-2ec7-4cc8-94f7-bd8a9971f14c"
      },
      "outputs": [
        {
          "data": {
            "text/plain": [
              "TensorShape([6])"
            ]
          },
          "execution_count": 39,
          "metadata": {},
          "output_type": "execute_result"
        }
      ],
      "source": [
        "# Add dimension | اضافه کردن بعد به بردار یا ماتریس\n",
        "\n",
        "a = tf.constant([1, 2, 3, 4, 5, 6])\n",
        "a.shape"
      ]
    },
    {
      "cell_type": "code",
      "execution_count": 40,
      "metadata": {
        "colab": {
          "base_uri": "https://localhost:8080/"
        },
        "id": "MzQt9X-2kFNF",
        "outputId": "65734cd2-9922-484e-fe52-47eef4698ba1"
      },
      "outputs": [
        {
          "data": {
            "text/plain": [
              "(TensorShape([6, 1]),\n",
              " array([[1],\n",
              "        [2],\n",
              "        [3],\n",
              "        [4],\n",
              "        [5],\n",
              "        [6]], dtype=int32))"
            ]
          },
          "execution_count": 40,
          "metadata": {},
          "output_type": "execute_result"
        }
      ],
      "source": [
        "# b = tf.expand_dims(a, 0) # -> [1, 6], [[1, 2, 3, 4, 5, 6]]\n",
        "b = tf.expand_dims(a, -1)# -> [6, 1], [1],\n",
        "                                     # [2],\n",
        "                                     # [3],\n",
        "                                     # [4],\n",
        "                                     # [5],\n",
        "                                     # [6]\n",
        "b.shape, b.numpy()"
      ]
    },
    {
      "cell_type": "code",
      "execution_count": null,
      "metadata": {
        "colab": {
          "base_uri": "https://localhost:8080/"
        },
        "id": "oRDnpyranPH8",
        "outputId": "eb40f7fb-39a0-4c39-beb8-3176ca9d2081"
      },
      "outputs": [
        {
          "data": {
            "text/plain": [
              "array([[ 1.,  4.],\n",
              "       [ 9., 16.]], dtype=float32)"
            ]
          },
          "execution_count": 41,
          "metadata": {},
          "output_type": "execute_result"
        }
      ],
      "source": [
        "# انجام عملیات ریاضی روی هر کدوم از المان های یک بردار یا ماتریس\n",
        "\n",
        "a = tf.constant([[1, 2], [3, 4.0]]) # 4.0 -> برای اینه که تنسور فلو، نوع داده رو اعشاری در نظر بگیره و خطایی پیش نیاد\n",
        "\n",
        "# Square | رسوندن به توان 2\n",
        "\n",
        "square = tf.square(a)\n",
        "square.numpy()"
      ]
    },
    {
      "cell_type": "code",
      "execution_count": null,
      "metadata": {
        "colab": {
          "base_uri": "https://localhost:8080/"
        },
        "id": "qojJE2cOmeNn",
        "outputId": "d668ca82-c9f9-4a02-e002-556da78aca27"
      },
      "outputs": [
        {
          "data": {
            "text/plain": [
              "array([[1.       , 1.4142135],\n",
              "       [1.7320508, 2.       ]], dtype=float32)"
            ]
          },
          "execution_count": 42,
          "metadata": {},
          "output_type": "execute_result"
        }
      ],
      "source": [
        "# Square root | محاسبه رادیکال\n",
        "\n",
        "# tf.cast(..., dtype=float32) -> برای اینه که تنسور فلو، نوع داده رو به اعشاری تبدیل کنه و خطایی پیش نیاد\n",
        "sr = tf.sqrt(tf.cast(a, dtype=float32))\n",
        "sr.numpy()"
      ]
    },
    {
      "cell_type": "code",
      "execution_count": 43,
      "metadata": {
        "colab": {
          "base_uri": "https://localhost:8080/"
        },
        "id": "BXqHICy0p0u-",
        "outputId": "db9d90d3-8f09-472e-822e-299fc8b49d7d"
      },
      "outputs": [
        {
          "data": {
            "text/plain": [
              "array([[3., 7.],\n",
              "       [2., 9.]], dtype=float32)"
            ]
          },
          "execution_count": 43,
          "metadata": {},
          "output_type": "execute_result"
        }
      ],
      "source": [
        "a = tf.constant([[3, 7], [2, 9]], dtype=float32)\n",
        "a.numpy()"
      ]
    },
    {
      "cell_type": "code",
      "execution_count": 44,
      "metadata": {
        "colab": {
          "base_uri": "https://localhost:8080/"
        },
        "id": "lbM0VtRQnbwv",
        "outputId": "fbe7f733-8db1-4d5f-8d90-4bd85beb06cd"
      },
      "outputs": [
        {
          "data": {
            "text/plain": [
              "np.float32(2.0)"
            ]
          },
          "execution_count": 44,
          "metadata": {},
          "output_type": "execute_result"
        }
      ],
      "source": [
        "# Minimum | محاسبه کمترین المان ماتریس\n",
        "\n",
        "# min = tf.reduce_min(a, axis=None) # 2 : محاسبه از بین تمام المان های ماتریس\n",
        "# min = tf.reduce_min(a, axis=0) # 2, 7 : محاسبه از بین سطون ها که توی هر سطون کدوم المان کمتره\n",
        "# min = tf.reduce_min(a, axis=1) # 3, 2 : محاسبه از بین سطر ها که توی هر سطر کدوم المان کمتره\n",
        "min = tf.reduce_min(a) # 2 : محاسبه از بین تمام المان های ماتریس\n",
        "\n",
        "min.numpy()"
      ]
    },
    {
      "cell_type": "code",
      "execution_count": 45,
      "metadata": {
        "colab": {
          "base_uri": "https://localhost:8080/"
        },
        "id": "Dq7Zm-G5pZ5G",
        "outputId": "3bd8c19e-c31c-486d-e423-1a7c47dbe88c"
      },
      "outputs": [
        {
          "data": {
            "text/plain": [
              "np.float32(9.0)"
            ]
          },
          "execution_count": 45,
          "metadata": {},
          "output_type": "execute_result"
        }
      ],
      "source": [
        "# Maximum | محاسبه بیشترین المان ماتریس\n",
        "\n",
        "max = tf.reduce_max(a)\n",
        "max.numpy()"
      ]
    },
    {
      "cell_type": "code",
      "execution_count": 46,
      "metadata": {
        "colab": {
          "base_uri": "https://localhost:8080/"
        },
        "id": "hA9Ci_MLrIse",
        "outputId": "4d057caa-ab01-48e4-e4cc-d1f7ef5ca749"
      },
      "outputs": [
        {
          "data": {
            "text/plain": [
              "np.float32(5.25)"
            ]
          },
          "execution_count": 46,
          "metadata": {},
          "output_type": "execute_result"
        }
      ],
      "source": [
        "# Average | محاسبه میانگین المان های ماتریس\n",
        "\n",
        "avg = tf.reduce_mean(a)\n",
        "avg.numpy()"
      ]
    },
    {
      "cell_type": "code",
      "execution_count": 47,
      "metadata": {
        "colab": {
          "base_uri": "https://localhost:8080/"
        },
        "id": "b-7X0ueytMTP",
        "outputId": "47c97f66-089a-4dd8-c3c5-86e941985c28"
      },
      "outputs": [
        {
          "data": {
            "text/plain": [
              "np.float32(2.8613808)"
            ]
          },
          "execution_count": 47,
          "metadata": {},
          "output_type": "execute_result"
        }
      ],
      "source": [
        "# Standard deviation | محاسبه انحراف معیار المان های ماتریس\n",
        "\n",
        "std = tf.math.reduce_std(a)\n",
        "std.numpy()"
      ]
    },
    {
      "cell_type": "code",
      "execution_count": 48,
      "metadata": {
        "colab": {
          "base_uri": "https://localhost:8080/"
        },
        "id": "NeoGktWktnM0",
        "outputId": "6a2b267b-9866-4169-c4ec-7aabade7090b"
      },
      "outputs": [
        {
          "data": {
            "text/plain": [
              "(np.float32(21.0), np.float32(378.0))"
            ]
          },
          "execution_count": 48,
          "metadata": {},
          "output_type": "execute_result"
        }
      ],
      "source": [
        "# Sum & Multiplication | جمع و ضرب کل المان های ماتریس با هم\n",
        "\n",
        "sum = tf.reduce_sum(a)\n",
        "mul = tf.reduce_prod(a)\n",
        "\n",
        "sum.numpy(), mul.numpy()"
      ]
    }
  ],
  "metadata": {
    "accelerator": "GPU",
    "colab": {
      "gpuType": "T4",
      "provenance": []
    },
    "kernelspec": {
      "display_name": "venv",
      "language": "python",
      "name": "python3"
    },
    "language_info": {
      "codemirror_mode": {
        "name": "ipython",
        "version": 3
      },
      "file_extension": ".py",
      "mimetype": "text/x-python",
      "name": "python",
      "nbconvert_exporter": "python",
      "pygments_lexer": "ipython3",
      "version": "3.12.6"
    }
  },
  "nbformat": 4,
  "nbformat_minor": 0
}
